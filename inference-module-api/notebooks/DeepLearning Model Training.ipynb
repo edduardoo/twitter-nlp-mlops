{
 "cells": [
  {
   "cell_type": "code",
   "execution_count": null,
   "id": "ac91e94a",
   "metadata": {},
   "outputs": [],
   "source": [
    "# DATASET: https://www.kaggle.com/datasets/saurabhshahane/twitter-sentiment-dataset  (India)\n",
    "# https://www.kaggle.com/datasets/jp797498e/twitter-entity-sentiment-analysis  (Entities/empresas)"
   ]
  },
  {
   "cell_type": "code",
   "execution_count": 1,
   "id": "79aa840e",
   "metadata": {},
   "outputs": [
    {
     "name": "stderr",
     "output_type": "stream",
     "text": [
      "2022-10-13 12:40:00.543517: I tensorflow/core/platform/cpu_feature_guard.cc:193] This TensorFlow binary is optimized with oneAPI Deep Neural Network Library (oneDNN) to use the following CPU instructions in performance-critical operations:  AVX2 FMA\n",
      "To enable them in other operations, rebuild TensorFlow with the appropriate compiler flags.\n",
      "2022-10-13 12:40:01.375597: W tensorflow/stream_executor/platform/default/dso_loader.cc:64] Could not load dynamic library 'libcudart.so.11.0'; dlerror: libcudart.so.11.0: cannot open shared object file: No such file or directory\n",
      "2022-10-13 12:40:01.375623: I tensorflow/stream_executor/cuda/cudart_stub.cc:29] Ignore above cudart dlerror if you do not have a GPU set up on your machine.\n",
      "2022-10-13 12:40:01.478638: E tensorflow/stream_executor/cuda/cuda_blas.cc:2981] Unable to register cuBLAS factory: Attempting to register factory for plugin cuBLAS when one has already been registered\n",
      "2022-10-13 12:40:03.260608: W tensorflow/stream_executor/platform/default/dso_loader.cc:64] Could not load dynamic library 'libnvinfer.so.7'; dlerror: libnvinfer.so.7: cannot open shared object file: No such file or directory\n",
      "2022-10-13 12:40:03.260743: W tensorflow/stream_executor/platform/default/dso_loader.cc:64] Could not load dynamic library 'libnvinfer_plugin.so.7'; dlerror: libnvinfer_plugin.so.7: cannot open shared object file: No such file or directory\n",
      "2022-10-13 12:40:03.260753: W tensorflow/compiler/tf2tensorrt/utils/py_utils.cc:38] TF-TRT Warning: Cannot dlopen some TensorRT libraries. If you would like to use Nvidia GPU with TensorRT, please make sure the missing libraries mentioned above are installed properly.\n"
     ]
    },
    {
     "name": "stdout",
     "output_type": "stream",
     "text": [
      "Done\n"
     ]
    }
   ],
   "source": [
    "import re\n",
    "import matplotlib.pyplot as plt\n",
    "from nltk.tokenize.treebank import TreebankWordDetokenizer\n",
    "from gensim.utils import simple_preprocess\n",
    "import gensim\n",
    "from sklearn.model_selection import train_test_split\n",
    "import tensorflow as tf\n",
    "import keras\n",
    "import numpy as np\n",
    "import pandas as pd\n",
    "print('Done')"
   ]
  },
  {
   "cell_type": "code",
   "execution_count": 4,
   "id": "96fe2df0",
   "metadata": {},
   "outputs": [
    {
     "name": "stdout",
     "output_type": "stream",
     "text": [
      "(74682, 4)\n",
      "(1000, 4)\n"
     ]
    },
    {
     "data": {
      "text/html": [
       "<div>\n",
       "<style scoped>\n",
       "    .dataframe tbody tr th:only-of-type {\n",
       "        vertical-align: middle;\n",
       "    }\n",
       "\n",
       "    .dataframe tbody tr th {\n",
       "        vertical-align: top;\n",
       "    }\n",
       "\n",
       "    .dataframe thead th {\n",
       "        text-align: right;\n",
       "    }\n",
       "</style>\n",
       "<table border=\"1\" class=\"dataframe\">\n",
       "  <thead>\n",
       "    <tr style=\"text-align: right;\">\n",
       "      <th></th>\n",
       "      <th>id</th>\n",
       "      <th>entity</th>\n",
       "      <th>sentiment</th>\n",
       "      <th>text</th>\n",
       "    </tr>\n",
       "  </thead>\n",
       "  <tbody>\n",
       "    <tr>\n",
       "      <th>0</th>\n",
       "      <td>2401</td>\n",
       "      <td>Borderlands</td>\n",
       "      <td>Positive</td>\n",
       "      <td>im getting on borderlands and i will murder yo...</td>\n",
       "    </tr>\n",
       "    <tr>\n",
       "      <th>1</th>\n",
       "      <td>2401</td>\n",
       "      <td>Borderlands</td>\n",
       "      <td>Positive</td>\n",
       "      <td>I am coming to the borders and I will kill you...</td>\n",
       "    </tr>\n",
       "    <tr>\n",
       "      <th>2</th>\n",
       "      <td>2401</td>\n",
       "      <td>Borderlands</td>\n",
       "      <td>Positive</td>\n",
       "      <td>im getting on borderlands and i will kill you ...</td>\n",
       "    </tr>\n",
       "    <tr>\n",
       "      <th>3</th>\n",
       "      <td>2401</td>\n",
       "      <td>Borderlands</td>\n",
       "      <td>Positive</td>\n",
       "      <td>im coming on borderlands and i will murder you...</td>\n",
       "    </tr>\n",
       "    <tr>\n",
       "      <th>4</th>\n",
       "      <td>2401</td>\n",
       "      <td>Borderlands</td>\n",
       "      <td>Positive</td>\n",
       "      <td>im getting on borderlands 2 and i will murder ...</td>\n",
       "    </tr>\n",
       "  </tbody>\n",
       "</table>\n",
       "</div>"
      ],
      "text/plain": [
       "     id       entity sentiment  \\\n",
       "0  2401  Borderlands  Positive   \n",
       "1  2401  Borderlands  Positive   \n",
       "2  2401  Borderlands  Positive   \n",
       "3  2401  Borderlands  Positive   \n",
       "4  2401  Borderlands  Positive   \n",
       "\n",
       "                                                text  \n",
       "0  im getting on borderlands and i will murder yo...  \n",
       "1  I am coming to the borders and I will kill you...  \n",
       "2  im getting on borderlands and i will kill you ...  \n",
       "3  im coming on borderlands and i will murder you...  \n",
       "4  im getting on borderlands 2 and i will murder ...  "
      ]
     },
     "metadata": {},
     "output_type": "display_data"
    },
    {
     "data": {
      "text/html": [
       "<div>\n",
       "<style scoped>\n",
       "    .dataframe tbody tr th:only-of-type {\n",
       "        vertical-align: middle;\n",
       "    }\n",
       "\n",
       "    .dataframe tbody tr th {\n",
       "        vertical-align: top;\n",
       "    }\n",
       "\n",
       "    .dataframe thead th {\n",
       "        text-align: right;\n",
       "    }\n",
       "</style>\n",
       "<table border=\"1\" class=\"dataframe\">\n",
       "  <thead>\n",
       "    <tr style=\"text-align: right;\">\n",
       "      <th></th>\n",
       "      <th>id</th>\n",
       "      <th>entity</th>\n",
       "      <th>sentiment</th>\n",
       "      <th>text</th>\n",
       "    </tr>\n",
       "  </thead>\n",
       "  <tbody>\n",
       "    <tr>\n",
       "      <th>0</th>\n",
       "      <td>3364</td>\n",
       "      <td>Facebook</td>\n",
       "      <td>Irrelevant</td>\n",
       "      <td>I mentioned on Facebook that I was struggling ...</td>\n",
       "    </tr>\n",
       "    <tr>\n",
       "      <th>1</th>\n",
       "      <td>352</td>\n",
       "      <td>Amazon</td>\n",
       "      <td>Neutral</td>\n",
       "      <td>BBC News - Amazon boss Jeff Bezos rejects clai...</td>\n",
       "    </tr>\n",
       "    <tr>\n",
       "      <th>2</th>\n",
       "      <td>8312</td>\n",
       "      <td>Microsoft</td>\n",
       "      <td>Negative</td>\n",
       "      <td>@Microsoft Why do I pay for WORD when it funct...</td>\n",
       "    </tr>\n",
       "    <tr>\n",
       "      <th>3</th>\n",
       "      <td>4371</td>\n",
       "      <td>CS-GO</td>\n",
       "      <td>Negative</td>\n",
       "      <td>CSGO matchmaking is so full of closet hacking,...</td>\n",
       "    </tr>\n",
       "    <tr>\n",
       "      <th>4</th>\n",
       "      <td>4433</td>\n",
       "      <td>Google</td>\n",
       "      <td>Neutral</td>\n",
       "      <td>Now the President is slapping Americans in the...</td>\n",
       "    </tr>\n",
       "  </tbody>\n",
       "</table>\n",
       "</div>"
      ],
      "text/plain": [
       "     id     entity   sentiment  \\\n",
       "0  3364   Facebook  Irrelevant   \n",
       "1   352     Amazon     Neutral   \n",
       "2  8312  Microsoft    Negative   \n",
       "3  4371      CS-GO    Negative   \n",
       "4  4433     Google     Neutral   \n",
       "\n",
       "                                                text  \n",
       "0  I mentioned on Facebook that I was struggling ...  \n",
       "1  BBC News - Amazon boss Jeff Bezos rejects clai...  \n",
       "2  @Microsoft Why do I pay for WORD when it funct...  \n",
       "3  CSGO matchmaking is so full of closet hacking,...  \n",
       "4  Now the President is slapping Americans in the...  "
      ]
     },
     "metadata": {},
     "output_type": "display_data"
    }
   ],
   "source": [
    "train = pd.read_csv('../data/twitter_training.csv', names=['id', 'entity', 'sentiment', 'text'])\n",
    "test = pd.read_csv('../data/twitter_validation.csv', names=['id', 'entity', 'sentiment', 'text'])\n",
    "print(train.shape)\n",
    "print(test.shape)\n",
    "\n",
    "display(train.head())\n",
    "display(test.head())"
   ]
  },
  {
   "cell_type": "markdown",
   "id": "88bf161d",
   "metadata": {},
   "source": [
    "### Basic data cleaning"
   ]
  },
  {
   "cell_type": "code",
   "execution_count": 5,
   "id": "a78c5bbc",
   "metadata": {},
   "outputs": [
    {
     "data": {
      "text/plain": [
       "id             0\n",
       "entity         0\n",
       "sentiment      0\n",
       "text         686\n",
       "dtype: int64"
      ]
     },
     "execution_count": 5,
     "metadata": {},
     "output_type": "execute_result"
    }
   ],
   "source": [
    "# checking missing values\n",
    "train.isna().sum()"
   ]
  },
  {
   "cell_type": "code",
   "execution_count": 6,
   "id": "733ecc84",
   "metadata": {},
   "outputs": [
    {
     "data": {
      "text/plain": [
       "id           0\n",
       "entity       0\n",
       "sentiment    0\n",
       "text         0\n",
       "dtype: int64"
      ]
     },
     "execution_count": 6,
     "metadata": {},
     "output_type": "execute_result"
    }
   ],
   "source": [
    "# droping NAs since they are less then 1%\n",
    "train.dropna(inplace=True)\n",
    "train.isna().sum()"
   ]
  },
  {
   "cell_type": "code",
   "execution_count": 10,
   "id": "6ba99f49",
   "metadata": {},
   "outputs": [],
   "source": [
    "# transforming to lower case for the next analysis\n",
    "train['text'] = train['text'].str.lower()"
   ]
  },
  {
   "cell_type": "code",
   "execution_count": 15,
   "id": "fa1fa4c3",
   "metadata": {
    "scrolled": false
   },
   "outputs": [
    {
     "data": {
      "text/plain": [
       "Negative      22358\n",
       "Positive      20655\n",
       "Neutral       18108\n",
       "Irrelevant    12875\n",
       "Name: sentiment, dtype: int64"
      ]
     },
     "execution_count": 15,
     "metadata": {},
     "output_type": "execute_result"
    }
   ],
   "source": [
    "# how many for each sentiment\n",
    "train['sentiment'].value_counts()"
   ]
  },
  {
   "cell_type": "code",
   "execution_count": 16,
   "id": "eba8b2b5",
   "metadata": {},
   "outputs": [
    {
     "data": {
      "text/plain": [
       "Negative    22358\n",
       "Positive    20655\n",
       "Neutral     18108\n",
       "Name: sentiment, dtype: int64"
      ]
     },
     "execution_count": 16,
     "metadata": {},
     "output_type": "execute_result"
    }
   ],
   "source": [
    "# removing all \"irrelevant\" since they don't help to build our model (we want to classify just among the other 3 labels)\n",
    "train = train[train['sentiment'] != 'Irrelevant']\n",
    "train['sentiment'].value_counts()"
   ]
  },
  {
   "cell_type": "code",
   "execution_count": 19,
   "id": "cf86d71a",
   "metadata": {},
   "outputs": [
    {
     "data": {
      "text/html": [
       "<div>\n",
       "<style scoped>\n",
       "    .dataframe tbody tr th:only-of-type {\n",
       "        vertical-align: middle;\n",
       "    }\n",
       "\n",
       "    .dataframe tbody tr th {\n",
       "        vertical-align: top;\n",
       "    }\n",
       "\n",
       "    .dataframe thead th {\n",
       "        text-align: right;\n",
       "    }\n",
       "</style>\n",
       "<table border=\"1\" class=\"dataframe\">\n",
       "  <thead>\n",
       "    <tr style=\"text-align: right;\">\n",
       "      <th></th>\n",
       "      <th>id</th>\n",
       "      <th>entity</th>\n",
       "      <th>text</th>\n",
       "    </tr>\n",
       "    <tr>\n",
       "      <th>sentiment</th>\n",
       "      <th></th>\n",
       "      <th></th>\n",
       "      <th></th>\n",
       "    </tr>\n",
       "  </thead>\n",
       "  <tbody>\n",
       "    <tr>\n",
       "      <th>Negative</th>\n",
       "      <td>3757</td>\n",
       "      <td>32</td>\n",
       "      <td>21154</td>\n",
       "    </tr>\n",
       "    <tr>\n",
       "      <th>Neutral</th>\n",
       "      <td>3053</td>\n",
       "      <td>32</td>\n",
       "      <td>17060</td>\n",
       "    </tr>\n",
       "    <tr>\n",
       "      <th>Positive</th>\n",
       "      <td>3472</td>\n",
       "      <td>32</td>\n",
       "      <td>19026</td>\n",
       "    </tr>\n",
       "  </tbody>\n",
       "</table>\n",
       "</div>"
      ],
      "text/plain": [
       "             id  entity   text\n",
       "sentiment                     \n",
       "Negative   3757      32  21154\n",
       "Neutral    3053      32  17060\n",
       "Positive   3472      32  19026"
      ]
     },
     "execution_count": 19,
     "metadata": {},
     "output_type": "execute_result"
    }
   ],
   "source": [
    "# How's distributed the dataset? Is it biased?\n",
    "train.groupby('sentiment').nunique()"
   ]
  },
  {
   "cell_type": "markdown",
   "id": "55f62333",
   "metadata": {},
   "source": [
    "### Labels sanity check\n",
    "\n",
    "Performing a quick inspection on random records to check if their labels make sense. If they don't, we can't train a decent model with them. "
   ]
  },
  {
   "cell_type": "code",
   "execution_count": 17,
   "id": "4dfd6314",
   "metadata": {},
   "outputs": [
    {
     "name": "stdout",
     "output_type": "stream",
     "text": [
      "pr @ea @eamaddennfl apparently my last name of ryan moore is less profane\n",
      "--------------------------------------------------\n",
      "Negative\n",
      "--------------------------------------------------\n",
      "\n",
      "i won 3 achievements in assassin's creed odyssey for 102 trueachievement pts trueachievements.com/gamer/outofthe…\n",
      "--------------------------------------------------\n",
      "Positive\n",
      "--------------------------------------------------\n",
      "\n",
      "im getting on borderlands and i will murder you all ,\n",
      "--------------------------------------------------\n",
      "Positive\n",
      "--------------------------------------------------\n",
      "\n",
      "@ ronnie2k @ nba2k how hard is it to make sure your developers stay up to date on hate speech, numbers and symbols? as a basketball fan and software developer, i'm disgusted. fix this! pic.twitter.com / ctqvq0il7x\n",
      "--------------------------------------------------\n",
      "Negative\n",
      "--------------------------------------------------\n",
      "\n",
      "microsoft - owned a minecraft i will stop using you amazon ’ ″ s online cloud teknoids. com / 2020 / 07 / 20 / mic …\n",
      "--------------------------------------------------\n",
      "Neutral\n",
      "--------------------------------------------------\n",
      "\n",
      "apex legends nexus 5 – boosted launch trailer youtu.be/qzdgo7fbnda @youtube.\n",
      "--------------------------------------------------\n",
      "Neutral\n",
      "--------------------------------------------------\n",
      "\n",
      "the grind is hard for some folks even harder for others, but this morning was hilarious,this shit made me laugh so hard,i remember the 1st wave & 2nd wave is no different 🤣.   \n",
      "--------------------------------------------------\n",
      "Neutral\n",
      "--------------------------------------------------\n",
      "\n",
      "u could hear that ps1 sound in this song.. dope... cant wait...\n",
      "--------------------------------------------------\n",
      "Positive\n",
      "--------------------------------------------------\n",
      "\n",
      "how the very hell don't you decipher between a 98 and a 99. no shot unless this dude isn ’ t running a 99\n",
      "--------------------------------------------------\n",
      "Negative\n",
      "--------------------------------------------------\n",
      "\n",
      "shoutout to @ ghostsxempire for starting a ghost war league for\n",
      "--------------------------------------------------\n",
      "Neutral\n",
      "--------------------------------------------------\n",
      "\n"
     ]
    }
   ],
   "source": [
    "samples = train.sample(10)\n",
    "for idx, row in samples.iterrows():\n",
    "    print(row['text'])\n",
    "    print(\"-\"*50)\n",
    "    print(row['sentiment'])\n",
    "    print(\"-\"*50)\n",
    "    print(\"\")"
   ]
  },
  {
   "cell_type": "markdown",
   "id": "c2dba4cf",
   "metadata": {},
   "source": [
    "### Potential issues found\n",
    "\n",
    "- Most mentions to \"Red Dead Redeeming\" (a game) seem to be good but they have the word \"dead\". This can create a bias, associating the word \"dead\" with positive, which can be very confusing."
   ]
  },
  {
   "cell_type": "code",
   "execution_count": 18,
   "id": "2a7ad496",
   "metadata": {},
   "outputs": [],
   "source": [
    "# replacing \"red dead redeemption\" by '' to remove confusion with word 'dead' and positive labels\n",
    "train['text'] = train['text'].str.replace('red dead redemption', '')\n",
    "train['text'] = train['text'].str.replace('red dead', '')"
   ]
  },
  {
   "cell_type": "code",
   "execution_count": 77,
   "id": "1a372529",
   "metadata": {},
   "outputs": [
    {
     "data": {
      "text/html": [
       "<div>\n",
       "<style scoped>\n",
       "    .dataframe tbody tr th:only-of-type {\n",
       "        vertical-align: middle;\n",
       "    }\n",
       "\n",
       "    .dataframe tbody tr th {\n",
       "        vertical-align: top;\n",
       "    }\n",
       "\n",
       "    .dataframe thead th {\n",
       "        text-align: right;\n",
       "    }\n",
       "</style>\n",
       "<table border=\"1\" class=\"dataframe\">\n",
       "  <thead>\n",
       "    <tr style=\"text-align: right;\">\n",
       "      <th></th>\n",
       "      <th>text</th>\n",
       "      <th>sentiment</th>\n",
       "    </tr>\n",
       "  </thead>\n",
       "  <tbody>\n",
       "    <tr>\n",
       "      <th>0</th>\n",
       "      <td>im getting on borderlands and i will murder yo...</td>\n",
       "      <td>Positive</td>\n",
       "    </tr>\n",
       "    <tr>\n",
       "      <th>1</th>\n",
       "      <td>i am coming to the borders and i will kill you...</td>\n",
       "      <td>Positive</td>\n",
       "    </tr>\n",
       "    <tr>\n",
       "      <th>2</th>\n",
       "      <td>im getting on borderlands and i will kill you ...</td>\n",
       "      <td>Positive</td>\n",
       "    </tr>\n",
       "    <tr>\n",
       "      <th>3</th>\n",
       "      <td>im coming on borderlands and i will murder you...</td>\n",
       "      <td>Positive</td>\n",
       "    </tr>\n",
       "    <tr>\n",
       "      <th>4</th>\n",
       "      <td>im getting on borderlands 2 and i will murder ...</td>\n",
       "      <td>Positive</td>\n",
       "    </tr>\n",
       "  </tbody>\n",
       "</table>\n",
       "</div>"
      ],
      "text/plain": [
       "                                                text sentiment\n",
       "0  im getting on borderlands and i will murder yo...  Positive\n",
       "1  i am coming to the borders and i will kill you...  Positive\n",
       "2  im getting on borderlands and i will kill you ...  Positive\n",
       "3  im coming on borderlands and i will murder you...  Positive\n",
       "4  im getting on borderlands 2 and i will murder ...  Positive"
      ]
     },
     "execution_count": 77,
     "metadata": {},
     "output_type": "execute_result"
    }
   ],
   "source": [
    "# Let's keep only the columns that we're going to use\n",
    "train = train[['text','sentiment']]\n",
    "train.head()"
   ]
  },
  {
   "cell_type": "markdown",
   "id": "ee958f85",
   "metadata": {},
   "source": [
    "### Preprocessing steps to be performed:\n",
    "- Remove URLs from the tweets\n",
    "- Tokenize text\n",
    "- Remove emails\n",
    "- Remove new lines characters\n",
    "- Remove distracting single quotes\n",
    "- Remove all punctuation signs\n",
    "- Lowercase all text\n",
    "- Detokenize text\n",
    "- Convert list of texts to Numpy array"
   ]
  },
  {
   "cell_type": "code",
   "execution_count": 20,
   "id": "c502a9d9",
   "metadata": {},
   "outputs": [],
   "source": [
    "def preprocess_texts(data):\n",
    "    \n",
    "    #Removing URLs with a regular expression\n",
    "    url_pattern = re.compile(r'https?://\\S+|www\\.\\S+')\n",
    "    data = url_pattern.sub(r'', data)\n",
    "\n",
    "    # Remove Emails\n",
    "    data = re.sub('\\S*@\\S*\\s?', '', data)\n",
    "\n",
    "    # Remove new line characters\n",
    "    data = re.sub('\\s+', ' ', data)\n",
    "\n",
    "    # Remove distracting single quotes\n",
    "    data = re.sub(\"\\'\", \"\", data)\n",
    "        \n",
    "    return data"
   ]
  },
  {
   "cell_type": "code",
   "execution_count": 21,
   "id": "690272fd",
   "metadata": {},
   "outputs": [
    {
     "data": {
      "text/plain": [
       "['im getting on borderlands and i will murder you all ,',\n",
       " 'i am coming to the borders and i will kill you all,',\n",
       " 'im getting on borderlands and i will kill you all,',\n",
       " 'im coming on borderlands and i will murder you all,',\n",
       " 'im getting on borderlands 2 and i will murder you me all,']"
      ]
     },
     "execution_count": 21,
     "metadata": {},
     "output_type": "execute_result"
    }
   ],
   "source": [
    "temp = []\n",
    "#Splitting pd.Series to list\n",
    "data_to_list = train['text'].values.tolist()\n",
    "for i in range(len(data_to_list)):\n",
    "    temp.append(preprocess_texts(data_to_list[i]))\n",
    "list(temp[:5])"
   ]
  },
  {
   "cell_type": "code",
   "execution_count": 22,
   "id": "f3ff22d2",
   "metadata": {},
   "outputs": [
    {
     "name": "stdout",
     "output_type": "stream",
     "text": [
      "[['im', 'getting', 'on', 'borderlands', 'and', 'will', 'murder', 'you', 'all'], ['am', 'coming', 'to', 'the', 'borders', 'and', 'will', 'kill', 'you', 'all'], ['im', 'getting', 'on', 'borderlands', 'and', 'will', 'kill', 'you', 'all'], ['im', 'coming', 'on', 'borderlands', 'and', 'will', 'murder', 'you', 'all'], ['im', 'getting', 'on', 'borderlands', 'and', 'will', 'murder', 'you', 'me', 'all'], ['im', 'getting', 'into', 'borderlands', 'and', 'can', 'murder', 'you', 'all'], ['so', 'spent', 'few', 'hours', 'making', 'something', 'for', 'fun', 'if', 'you', 'dont', 'know', 'am', 'huge', 'fan', 'and', 'maya', 'is', 'one', 'of', 'my', 'favorite', 'characters', 'so', 'decided', 'to', 'make', 'myself', 'wallpaper', 'for', 'my', 'pc', 'here', 'is', 'the', 'original', 'image', 'versus', 'the', 'creation', 'made', 'enjoy', 'pic', 'twitter', 'com', 'mlsi', 'wf', 'jg'], ['so', 'spent', 'couple', 'of', 'hours', 'doing', 'something', 'for', 'fun', 'if', 'you', 'dont', 'know', 'that', 'im', 'huge', 'borderlands', 'fan', 'and', 'maya', 'is', 'one', 'of', 'my', 'favorite', 'characters', 'decided', 'to', 'make', 'wallpaper', 'for', 'my', 'pc', 'heres', 'the', 'original', 'picture', 'compared', 'to', 'the', 'creation', 'made', 'have', 'fun', 'pic', 'twitter', 'com', 'mlsi', 'wf', 'jg'], ['so', 'spent', 'few', 'hours', 'doing', 'something', 'for', 'fun', 'if', 'you', 'dont', 'know', 'im', 'huge', 'borderlands', 'fan', 'and', 'maya', 'is', 'one', 'of', 'my', 'favorite', 'characters'], ['so', 'spent', 'few', 'hours', 'making', 'something', 'for', 'fun', 'if', 'you', 'dont', 'know', 'am', 'huge', 'rhandlerr', 'fan', 'and', 'maya', 'is', 'one', 'of', 'my', 'favorite', 'characters', 'so', 'decided', 'to', 'make', 'myself', 'wallpaper', 'for', 'my', 'pc', 'here', 'is', 'the', 'original', 'image', 'versus', 'the', 'creation', 'made', 'enjoy', 'pic', 'twitter', 'com', 'mlsi', 'wf', 'jg']]\n"
     ]
    }
   ],
   "source": [
    "def sent_to_words(sentences):\n",
    "    for sentence in sentences:\n",
    "        yield(gensim.utils.simple_preprocess(str(sentence), deacc=True))  # deacc=True removes punctuations\n",
    "        \n",
    "\n",
    "data_words = list(sent_to_words(temp))\n",
    "\n",
    "print(data_words[:10])"
   ]
  },
  {
   "cell_type": "code",
   "execution_count": 23,
   "id": "c0d53121",
   "metadata": {},
   "outputs": [
    {
     "data": {
      "text/plain": [
       "61121"
      ]
     },
     "execution_count": 23,
     "metadata": {},
     "output_type": "execute_result"
    }
   ],
   "source": [
    "len(data_words)"
   ]
  },
  {
   "cell_type": "code",
   "execution_count": 24,
   "id": "fc241c8d",
   "metadata": {},
   "outputs": [],
   "source": [
    "def detokenize(text):\n",
    "    return TreebankWordDetokenizer().detokenize(text)"
   ]
  },
  {
   "cell_type": "code",
   "execution_count": 25,
   "id": "94ba82d1",
   "metadata": {},
   "outputs": [
    {
     "name": "stdout",
     "output_type": "stream",
     "text": [
      "['im getting on borderlands and will murder you all', 'am coming to the borders and will kill you all', 'im getting on borderlands and will kill you all', 'im coming on borderlands and will murder you all', 'im getting on borderlands and will murder you me all']\n"
     ]
    }
   ],
   "source": [
    "data = []\n",
    "for i in range(len(data_words)):\n",
    "    data.append(detokenize(data_words[i]))\n",
    "print(data[:5])"
   ]
  },
  {
   "cell_type": "code",
   "execution_count": 26,
   "id": "7a4d6f98",
   "metadata": {},
   "outputs": [],
   "source": [
    "data = np.array(data)"
   ]
  },
  {
   "cell_type": "markdown",
   "id": "1207e91c",
   "metadata": {},
   "source": [
    "## Label encoding\n",
    "As the dataset is categorical, we need to convert the sentiment labels from Neutral, Negative and Positive to a float type that our model can understand. To achieve this task, we'll implement the to_categorical method from Keras."
   ]
  },
  {
   "cell_type": "code",
   "execution_count": 27,
   "id": "b3c5b833",
   "metadata": {},
   "outputs": [],
   "source": [
    "labels = np.array(train['sentiment'])\n",
    "y = []\n",
    "for i in range(len(labels)):\n",
    "    if labels[i] == 'Neutral':\n",
    "        y.append(0)\n",
    "    if labels[i] == 'Negative':\n",
    "        y.append(1)\n",
    "    if labels[i] == 'Positive':\n",
    "        y.append(2)\n",
    "y = np.array(y)\n",
    "labels = tf.keras.utils.to_categorical(y, 3, dtype=\"float32\")\n",
    "del y"
   ]
  },
  {
   "cell_type": "code",
   "execution_count": 29,
   "id": "dacfefa6",
   "metadata": {},
   "outputs": [
    {
     "data": {
      "text/plain": [
       "array([[0., 0., 1.],\n",
       "       [0., 0., 1.],\n",
       "       [0., 0., 1.],\n",
       "       ...,\n",
       "       [0., 0., 1.],\n",
       "       [0., 0., 1.],\n",
       "       [0., 0., 1.]], dtype=float32)"
      ]
     },
     "execution_count": 29,
     "metadata": {},
     "output_type": "execute_result"
    }
   ],
   "source": [
    "labels"
   ]
  },
  {
   "cell_type": "markdown",
   "id": "3aab31d4",
   "metadata": {},
   "source": [
    "## Data sequencing and splitting\n",
    "\n",
    "Implementing Keras tokenizer and its pad_sequences method to transform our text data into 3D float data, so that our neural networks can be trained on it."
   ]
  },
  {
   "cell_type": "code",
   "execution_count": 78,
   "id": "a8c50c30",
   "metadata": {},
   "outputs": [
    {
     "name": "stdout",
     "output_type": "stream",
     "text": [
      "[[   0    0    0 ... 1598   12   24]\n",
      " [   0    0    0 ...  417   12   24]\n",
      " [   0    0    0 ...  417   12   24]\n",
      " ...\n",
      " [   0    0    0 ...  132  697 2410]\n",
      " [   0    0    0 ...  127  697 2410]\n",
      " [   0    0    0 ...   62  697 2410]]\n"
     ]
    }
   ],
   "source": [
    "import keras\n",
    "from keras.models import Sequential\n",
    "from keras import layers\n",
    "from keras.optimizers import RMSprop,Adam\n",
    "from keras.preprocessing.text import Tokenizer\n",
    "#from keras.preprocessing.sequence import pad_sequences\n",
    "from tensorflow.keras.preprocessing.sequence import pad_sequences\n",
    "from keras import regularizers\n",
    "from keras import backend as K\n",
    "from keras.callbacks import ModelCheckpoint\n",
    "import configparser\n",
    "config = configparser.ConfigParser()\n",
    "config.sections()\n",
    "config.read('../config.ini')\n",
    "\n",
    "max_len = int(config['model_params']['max_len'])\n",
    "max_words = int(config['model_params']['max_words'])\n",
    "\n",
    "tokenizer = Tokenizer(num_words=max_words)\n",
    "tokenizer.fit_on_texts(data)\n",
    "sequences = tokenizer.texts_to_sequences(data)\n",
    "tweets = pad_sequences(sequences, maxlen=max_len)\n",
    "print(tweets)"
   ]
  },
  {
   "cell_type": "code",
   "execution_count": 54,
   "id": "3dac7b89",
   "metadata": {},
   "outputs": [
    {
     "data": {
      "text/plain": [
       "['../artifacts/keras_tokenizer.joblib']"
      ]
     },
     "execution_count": 54,
     "metadata": {},
     "output_type": "execute_result"
    }
   ],
   "source": [
    "# persisting tokenizer to be used later by the inference module\n",
    "from joblib import dump, load\n",
    "dump(tokenizer, '../artifacts/keras_tokenizer.joblib')"
   ]
  },
  {
   "cell_type": "code",
   "execution_count": 31,
   "id": "e0cc6583",
   "metadata": {},
   "outputs": [
    {
     "name": "stdout",
     "output_type": "stream",
     "text": [
      "45840 15281 45840 15281\n"
     ]
    }
   ],
   "source": [
    "# Splitting the data\n",
    "X_train, X_test, y_train, y_test = train_test_split(tweets,labels, test_size=.25, random_state=0, )\n",
    "print (len(X_train),len(X_test),len(y_train),len(y_test))"
   ]
  },
  {
   "cell_type": "markdown",
   "id": "2b749caf",
   "metadata": {},
   "source": [
    "# Model building\n",
    "Building our Recurrent Neural Network. It will be a Bidirectional LSTM model."
   ]
  },
  {
   "cell_type": "markdown",
   "id": "c928247f",
   "metadata": {},
   "source": [
    "### Bidirectional LTSM model"
   ]
  },
  {
   "cell_type": "code",
   "execution_count": 50,
   "id": "95973f4c",
   "metadata": {},
   "outputs": [
    {
     "name": "stdout",
     "output_type": "stream",
     "text": [
      "WARNING:tensorflow:`period` argument is deprecated. Please use `save_freq` to specify the frequency in number of batches seen.\n",
      "Epoch 1/15\n"
     ]
    },
    {
     "name": "stderr",
     "output_type": "stream",
     "text": [
      "2022-10-13 13:17:53.248276: W tensorflow/core/framework/cpu_allocator_impl.cc:82] Allocation of 36672000 exceeds 10% of free system memory.\n"
     ]
    },
    {
     "name": "stdout",
     "output_type": "stream",
     "text": [
      "1433/1433 [==============================] - ETA: 0s - loss: 0.8630 - accuracy: 0.6063\n",
      "Epoch 1: val_accuracy improved from -inf to 0.68628, saving model to ../models/BidLTSM.hdf5\n",
      "1433/1433 [==============================] - 132s 90ms/step - loss: 0.8630 - accuracy: 0.6063 - val_loss: 0.7531 - val_accuracy: 0.6863\n",
      "Epoch 2/15\n",
      "1433/1433 [==============================] - ETA: 0s - loss: 0.7133 - accuracy: 0.7027\n",
      "Epoch 2: val_accuracy improved from 0.68628 to 0.71612, saving model to ../models/BidLTSM.hdf5\n",
      "1433/1433 [==============================] - 126s 88ms/step - loss: 0.7133 - accuracy: 0.7027 - val_loss: 0.6934 - val_accuracy: 0.7161\n",
      "Epoch 3/15\n",
      "1433/1433 [==============================] - ETA: 0s - loss: 0.6635 - accuracy: 0.7258\n",
      "Epoch 3: val_accuracy improved from 0.71612 to 0.72862, saving model to ../models/BidLTSM.hdf5\n",
      "1433/1433 [==============================] - 123s 86ms/step - loss: 0.6635 - accuracy: 0.7258 - val_loss: 0.6592 - val_accuracy: 0.7286\n",
      "Epoch 4/15\n",
      "1433/1433 [==============================] - ETA: 0s - loss: 0.6179 - accuracy: 0.7440\n",
      "Epoch 4: val_accuracy improved from 0.72862 to 0.73948, saving model to ../models/BidLTSM.hdf5\n",
      "1433/1433 [==============================] - 123s 86ms/step - loss: 0.6179 - accuracy: 0.7440 - val_loss: 0.6396 - val_accuracy: 0.7395\n",
      "Epoch 5/15\n",
      "1433/1433 [==============================] - ETA: 0s - loss: 0.5866 - accuracy: 0.7597\n",
      "Epoch 5: val_accuracy improved from 0.73948 to 0.75309, saving model to ../models/BidLTSM.hdf5\n",
      "1433/1433 [==============================] - 122s 85ms/step - loss: 0.5866 - accuracy: 0.7597 - val_loss: 0.6142 - val_accuracy: 0.7531\n",
      "Epoch 6/15\n",
      "1433/1433 [==============================] - ETA: 0s - loss: 0.5601 - accuracy: 0.7721\n",
      "Epoch 6: val_accuracy improved from 0.75309 to 0.75977, saving model to ../models/BidLTSM.hdf5\n",
      "1433/1433 [==============================] - 124s 86ms/step - loss: 0.5601 - accuracy: 0.7721 - val_loss: 0.6022 - val_accuracy: 0.7598\n",
      "Epoch 7/15\n",
      "1433/1433 [==============================] - ETA: 0s - loss: 0.5406 - accuracy: 0.7836\n",
      "Epoch 7: val_accuracy improved from 0.75977 to 0.76566, saving model to ../models/BidLTSM.hdf5\n",
      "1433/1433 [==============================] - 125s 87ms/step - loss: 0.5406 - accuracy: 0.7836 - val_loss: 0.5858 - val_accuracy: 0.7657\n",
      "Epoch 8/15\n",
      "1433/1433 [==============================] - ETA: 0s - loss: 0.5245 - accuracy: 0.7877\n",
      "Epoch 8: val_accuracy improved from 0.76566 to 0.76697, saving model to ../models/BidLTSM.hdf5\n",
      "1433/1433 [==============================] - 124s 87ms/step - loss: 0.5245 - accuracy: 0.7877 - val_loss: 0.5845 - val_accuracy: 0.7670\n",
      "Epoch 9/15\n",
      "1433/1433 [==============================] - ETA: 0s - loss: 0.5123 - accuracy: 0.7938\n",
      "Epoch 9: val_accuracy improved from 0.76697 to 0.77724, saving model to ../models/BidLTSM.hdf5\n",
      "1433/1433 [==============================] - 125s 87ms/step - loss: 0.5123 - accuracy: 0.7938 - val_loss: 0.5625 - val_accuracy: 0.7772\n",
      "Epoch 10/15\n",
      "1433/1433 [==============================] - ETA: 0s - loss: 0.4982 - accuracy: 0.8010\n",
      "Epoch 10: val_accuracy improved from 0.77724 to 0.77750, saving model to ../models/BidLTSM.hdf5\n",
      "1433/1433 [==============================] - 126s 88ms/step - loss: 0.4982 - accuracy: 0.8010 - val_loss: 0.5704 - val_accuracy: 0.7775\n",
      "Epoch 11/15\n",
      "1433/1433 [==============================] - ETA: 0s - loss: 0.4853 - accuracy: 0.8071\n",
      "Epoch 11: val_accuracy improved from 0.77750 to 0.79046, saving model to ../models/BidLTSM.hdf5\n",
      "1433/1433 [==============================] - 125s 87ms/step - loss: 0.4853 - accuracy: 0.8071 - val_loss: 0.5327 - val_accuracy: 0.7905\n",
      "Epoch 12/15\n",
      "1433/1433 [==============================] - ETA: 0s - loss: 0.4761 - accuracy: 0.8113\n",
      "Epoch 12: val_accuracy improved from 0.79046 to 0.79465, saving model to ../models/BidLTSM.hdf5\n",
      "1433/1433 [==============================] - 126s 88ms/step - loss: 0.4761 - accuracy: 0.8113 - val_loss: 0.5227 - val_accuracy: 0.7946\n",
      "Epoch 13/15\n",
      "1433/1433 [==============================] - ETA: 0s - loss: 0.4672 - accuracy: 0.8142\n",
      "Epoch 13: val_accuracy improved from 0.79465 to 0.79936, saving model to ../models/BidLTSM.hdf5\n",
      "1433/1433 [==============================] - 125s 87ms/step - loss: 0.4672 - accuracy: 0.8142 - val_loss: 0.5108 - val_accuracy: 0.7994\n",
      "Epoch 14/15\n",
      "1433/1433 [==============================] - ETA: 0s - loss: 0.4591 - accuracy: 0.8163\n",
      "Epoch 14: val_accuracy did not improve from 0.79936\n",
      "1433/1433 [==============================] - 127s 89ms/step - loss: 0.4591 - accuracy: 0.8163 - val_loss: 0.5146 - val_accuracy: 0.7980\n",
      "Epoch 15/15\n",
      "1433/1433 [==============================] - ETA: 0s - loss: 0.4498 - accuracy: 0.8205\n",
      "Epoch 15: val_accuracy did not improve from 0.79936\n",
      "1433/1433 [==============================] - 127s 89ms/step - loss: 0.4498 - accuracy: 0.8205 - val_loss: 0.5197 - val_accuracy: 0.7986\n",
      "FINISHED TRAINING!!!\n"
     ]
    }
   ],
   "source": [
    "model = Sequential()\n",
    "model.add(layers.Embedding(max_words, 40, input_length=max_len))\n",
    "model.add(layers.Bidirectional(layers.LSTM(20,dropout=0.6)))\n",
    "model.add(layers.Dense(3,activation='softmax'))\n",
    "model.compile(optimizer='rmsprop',loss='categorical_crossentropy', metrics=['accuracy'])\n",
    "#Implementing model checkpoins to save the best metric and do not lose it on training.\n",
    "checkpoint2 = ModelCheckpoint(\"../models/BidLTSM.hdf5\", monitor='val_accuracy', verbose=1,save_best_only=True, mode='auto', period=1,save_weights_only=False)\n",
    "history = model.fit(X_train, y_train, epochs=15,validation_data=(X_test, y_test),callbacks=[checkpoint2])\n",
    "print(\"FINISHED TRAINING!!!\")"
   ]
  },
  {
   "cell_type": "markdown",
   "id": "b384209a",
   "metadata": {},
   "source": [
    "### Model validation"
   ]
  },
  {
   "cell_type": "code",
   "execution_count": 33,
   "id": "1414a503",
   "metadata": {},
   "outputs": [],
   "source": [
    "# Load the model\n",
    "persisted_model = keras.models.load_model(\"../models/BidLTSM.hdf5\")"
   ]
  },
  {
   "cell_type": "code",
   "execution_count": 34,
   "id": "b1b1686f",
   "metadata": {},
   "outputs": [
    {
     "name": "stdout",
     "output_type": "stream",
     "text": [
      "478/478 - 9s - loss: 0.6918 - accuracy: 0.7158 - 9s/epoch - 18ms/step\n",
      "Model accuracy:  0.715790867805481\n"
     ]
    }
   ],
   "source": [
    "test_loss, test_acc = persisted_model.evaluate(X_test, y_test, verbose=2)\n",
    "print('Model accuracy: ',test_acc)"
   ]
  },
  {
   "cell_type": "code",
   "execution_count": 35,
   "id": "170d7d94",
   "metadata": {},
   "outputs": [
    {
     "name": "stdout",
     "output_type": "stream",
     "text": [
      "478/478 [==============================] - 9s 18ms/step\n"
     ]
    }
   ],
   "source": [
    "predictions = persisted_model.predict(X_test)"
   ]
  },
  {
   "cell_type": "markdown",
   "id": "5af0107c",
   "metadata": {},
   "source": [
    "### Confusion matrix"
   ]
  },
  {
   "cell_type": "code",
   "execution_count": 36,
   "id": "5637b33f",
   "metadata": {},
   "outputs": [],
   "source": [
    "from sklearn.metrics import confusion_matrix\n",
    "matrix = confusion_matrix(y_test.argmax(axis=1), np.around(predictions, decimals=0).argmax(axis=1))"
   ]
  },
  {
   "cell_type": "code",
   "execution_count": 42,
   "id": "cd55ce57",
   "metadata": {},
   "outputs": [
    {
     "name": "stderr",
     "output_type": "stream",
     "text": [
      "/tmp/ipykernel_208536/716379480.py:4: FutureWarning: Support for multi-dimensional indexing (e.g. `obj[:, None]`) is deprecated and will be removed in a future version.  Convert to a numpy array before indexing instead.\n",
      "  conf_matrix = conf_matrix.astype('float') / conf_matrix.sum(axis=1)[:, np.newaxis]\n"
     ]
    },
    {
     "data": {
      "image/png": "[encoded data removed]",
      "text/plain": [
       "<Figure size 500x300 with 2 Axes>"
      ]
     },
     "metadata": {},
     "output_type": "display_data"
    }
   ],
   "source": [
    "import seaborn as sns\n",
    "conf_matrix = pd.DataFrame(matrix, index = ['Neutral','Negative','Positive'],columns = ['Neutral','Negative','Positive'])\n",
    "#Normalizing\n",
    "conf_matrix = conf_matrix.astype('float') / conf_matrix.sum(axis=1)[:, np.newaxis]\n",
    "plt.figure(figsize = (5,3))\n",
    "sns.heatmap(conf_matrix, annot=True, annot_kws={\"size\": 15})\n",
    "plt.show()"
   ]
  },
  {
   "cell_type": "code",
   "execution_count": 43,
   "id": "79a99f89",
   "metadata": {},
   "outputs": [],
   "source": [
    "sentiment = ['Neutral','Negative','Positive']"
   ]
  },
  {
   "cell_type": "code",
   "execution_count": 56,
   "id": "f9ac165c",
   "metadata": {},
   "outputs": [],
   "source": [
    "# loading tokenizer\n",
    "tokenizer_pers = load('../artifacts/keras_tokenizer.joblib')"
   ]
  },
  {
   "cell_type": "code",
   "execution_count": 82,
   "id": "163c0918",
   "metadata": {},
   "outputs": [
    {
     "name": "stdout",
     "output_type": "stream",
     "text": [
      "1/1 [==============================] - 0s 32ms/step\n"
     ]
    },
    {
     "data": {
      "text/plain": [
       "'Negative'"
      ]
     },
     "execution_count": 82,
     "metadata": {},
     "output_type": "execute_result"
    }
   ],
   "source": [
    "sequence = tokenizer_pers.texts_to_sequences(['this experience has been the worst , want my money back'])\n",
    "test = pad_sequences(sequence, maxlen=max_len)\n",
    "sentiment[np.around(persisted_model.predict(test), decimals=0).argmax(axis=1)[0]]"
   ]
  },
  {
   "cell_type": "code",
   "execution_count": 61,
   "id": "2b389d6f",
   "metadata": {},
   "outputs": [
    {
     "name": "stdout",
     "output_type": "stream",
     "text": [
      "1/1 [==============================] - 0s 55ms/step\n"
     ]
    },
    {
     "data": {
      "text/plain": [
       "'Positive'"
      ]
     },
     "execution_count": 61,
     "metadata": {},
     "output_type": "execute_result"
    }
   ],
   "source": [
    "sequence = tokenizer_pers.texts_to_sequences(['this data science article is the best ever'])\n",
    "test = pad_sequences(sequence, maxlen=max_len)\n",
    "sentiment[np.around(persisted_model.predict(test), decimals=0).argmax(axis=1)[0]]"
   ]
  },
  {
   "cell_type": "code",
   "execution_count": 60,
   "id": "5dfad446",
   "metadata": {},
   "outputs": [
    {
     "name": "stdout",
     "output_type": "stream",
     "text": [
      "1/1 [==============================] - 0s 33ms/step\n"
     ]
    },
    {
     "data": {
      "text/plain": [
       "'Negative'"
      ]
     },
     "execution_count": 60,
     "metadata": {},
     "output_type": "execute_result"
    }
   ],
   "source": [
    "sequence = tokenizer_pers.texts_to_sequences(['i hate youtube ads, they are annoying'])\n",
    "test = pad_sequences(sequence, maxlen=max_len)\n",
    "sentiment[np.around(persisted_model.predict(test), decimals=0).argmax(axis=1)[0]]"
   ]
  },
  {
   "cell_type": "code",
   "execution_count": 59,
   "id": "f4b40058",
   "metadata": {},
   "outputs": [
    {
     "name": "stdout",
     "output_type": "stream",
     "text": [
      "1/1 [==============================] - 0s 37ms/step\n"
     ]
    },
    {
     "data": {
      "text/plain": [
       "'Negative'"
      ]
     },
     "execution_count": 59,
     "metadata": {},
     "output_type": "execute_result"
    }
   ],
   "source": [
    "sequence = tokenizer_pers.texts_to_sequences(['i really loved how the technician helped me with the issue that i had'])\n",
    "test = pad_sequences(sequence, maxlen=max_len)\n",
    "sentiment[np.around(persisted_model.predict(test), decimals=0).argmax(axis=1)[0]]"
   ]
  },
  {
   "cell_type": "code",
   "execution_count": 58,
   "id": "c00ff032",
   "metadata": {},
   "outputs": [
    {
     "name": "stdout",
     "output_type": "stream",
     "text": [
      "1/1 [==============================] - 0s 33ms/step\n"
     ]
    },
    {
     "data": {
      "text/plain": [
       "'Positive'"
      ]
     },
     "execution_count": 58,
     "metadata": {},
     "output_type": "execute_result"
    }
   ],
   "source": [
    "sequence = tokenizer_pers.texts_to_sequences(['this text will say normal stuff'])\n",
    "test = pad_sequences(sequence, maxlen=max_len)\n",
    "sentiment[np.around(persisted_model.predict(test), decimals=0).argmax(axis=1)[0]]"
   ]
  },
  {
   "cell_type": "code",
   "execution_count": null,
   "id": "67685667",
   "metadata": {},
   "outputs": [],
   "source": [
    "# testando prever um array"
   ]
  }
 ],
 "metadata": {
  "kernelspec": {
   "display_name": "Python (mlops)",
   "language": "python",
   "name": "mlops"
  },
  "language_info": {
   "codemirror_mode": {
    "name": "ipython",
    "version": 3
   },
   "file_extension": ".py",
   "mimetype": "text/x-python",
   "name": "python",
   "nbconvert_exporter": "python",
   "pygments_lexer": "ipython3",
   "version": "3.10.4"
  }
 },
 "nbformat": 4,
 "nbformat_minor": 5
}
