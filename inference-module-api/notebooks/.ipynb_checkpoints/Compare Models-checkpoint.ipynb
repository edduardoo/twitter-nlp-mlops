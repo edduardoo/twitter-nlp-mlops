{
 "cells": [
  {
   "cell_type": "code",
   "execution_count": 10,
   "id": "bdf990f9",
   "metadata": {},
   "outputs": [],
   "source": [
    "from vaderSentiment.vaderSentiment import SentimentIntensityAnalyzer\n",
    "\n",
    "#calculate the negative, positive, neutral and compound scores, plus verbal evaluation\n",
    "def sentiment_vader(sentence):\n",
    "\n",
    "    # Create a SentimentIntensityAnalyzer object.\n",
    "    sid_obj = SentimentIntensityAnalyzer()\n",
    "\n",
    "    sentiment_dict = sid_obj.polarity_scores(sentence)\n",
    "    negative = sentiment_dict['neg']\n",
    "    neutral = sentiment_dict['neu']\n",
    "    positive = sentiment_dict['pos']\n",
    "    compound = sentiment_dict['compound']\n",
    "\n",
    "    if sentiment_dict['compound'] >= 0.05 :\n",
    "        overall_sentiment = \"Positive\"\n",
    "\n",
    "    elif sentiment_dict['compound'] <= - 0.05 :\n",
    "        overall_sentiment = \"Negative\"\n",
    "\n",
    "    else :\n",
    "        overall_sentiment = \"Neutral\"\n",
    "  \n",
    "    return negative, neutral, positive, compound, overall_sentiment"
   ]
  },
  {
   "cell_type": "code",
   "execution_count": 11,
   "id": "7f09d914",
   "metadata": {},
   "outputs": [],
   "source": [
    "import tweepy\n",
    "def search_for_tweets(keyword, bearer_token):\n",
    "    client = tweepy.Client(bearer_token=bearer_token)\n",
    "    # search query\n",
    "    query = '\"{}\" -is:retweet lang:en'.format(keyword)\n",
    "\n",
    "    tweets = client.search_recent_tweets(query=query, tweet_fields=['created_at', 'public_metrics'], \n",
    "                                     sort_order='relevancy', user_fields=['profile_image_url'], \n",
    "                                     expansions='author_id', max_results=10)\n",
    "    return tweets"
   ]
  },
  {
   "cell_type": "code",
   "execution_count": 12,
   "id": "f329e66a",
   "metadata": {},
   "outputs": [],
   "source": [
    "def tweets_to_df(tweets, type=\"tweepy\"): # during tests I used a hardcoded set of tweets, so I change 'type' to anything else\n",
    "    results = pd.DataFrame()\n",
    "    for tweet in tweets:\n",
    "        if type==\"tweepy\":\n",
    "            tweet = tweet.data\n",
    "        \n",
    "        tweet = tweet\n",
    "        metrics = tweet['public_metrics']    \n",
    "        keys, values = zip(*metrics.items())\n",
    "        df = pd.DataFrame(tweet, index=[0]).drop(['edit_history_tweet_ids','public_metrics'], axis=1)\n",
    "        df[list(keys)] = [list(values)]\n",
    "        results = pd.concat([results, df])\n",
    "\n",
    "        results['created_at'] = pd.to_datetime(results['created_at'])\n",
    "        results.reset_index(drop=True, inplace=True)\n",
    "        # reordering columns:\n",
    "        results = results[['id', 'created_at', 'author_id', 'text', 'retweet_count', 'reply_count', 'like_count', 'quote_count']]\n",
    "    return results"
   ]
  },
  {
   "cell_type": "code",
   "execution_count": null,
   "id": "2967afb0",
   "metadata": {},
   "outputs": [],
   "source": []
  }
 ],
 "metadata": {
  "kernelspec": {
   "display_name": "Python (mlops)",
   "language": "python",
   "name": "mlops"
  },
  "language_info": {
   "codemirror_mode": {
    "name": "ipython",
    "version": 3
   },
   "file_extension": ".py",
   "mimetype": "text/x-python",
   "name": "python",
   "nbconvert_exporter": "python",
   "pygments_lexer": "ipython3",
   "version": "3.10.4"
  }
 },
 "nbformat": 4,
 "nbformat_minor": 5
}
