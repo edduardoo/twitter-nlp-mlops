{
 "cells": [
  {
   "cell_type": "code",
   "execution_count": null,
   "id": "ac91e94a",
   "metadata": {},
   "outputs": [],
   "source": [
    "# DATASET: https://www.kaggle.com/datasets/saurabhshahane/twitter-sentiment-dataset  (India)\n",
    "# https://www.kaggle.com/datasets/jp797498e/twitter-entity-sentiment-analysis  (Entities/empresas)"
   ]
  },
  {
   "cell_type": "code",
   "execution_count": 3,
   "id": "79aa840e",
   "metadata": {},
   "outputs": [
    {
     "name": "stdout",
     "output_type": "stream",
     "text": [
      "Done\n"
     ]
    }
   ],
   "source": [
    "import re\n",
    "import matplotlib.pyplot as plt\n",
    "from nltk.tokenize.treebank import TreebankWordDetokenizer\n",
    "from gensim.utils import simple_preprocess\n",
    "import gensim\n",
    "from sklearn.model_selection import train_test_split\n",
    "import tensorflow as tf\n",
    "import keras\n",
    "import numpy as np\n",
    "import pandas as pd\n",
    "print('Done')"
   ]
  },
  {
   "cell_type": "code",
   "execution_count": 48,
   "id": "96fe2df0",
   "metadata": {},
   "outputs": [
    {
     "name": "stdout",
     "output_type": "stream",
     "text": [
      "(74682, 4)\n",
      "(1000, 4)\n"
     ]
    },
    {
     "data": {
      "text/html": [
       "<div>\n",
       "<style scoped>\n",
       "    .dataframe tbody tr th:only-of-type {\n",
       "        vertical-align: middle;\n",
       "    }\n",
       "\n",
       "    .dataframe tbody tr th {\n",
       "        vertical-align: top;\n",
       "    }\n",
       "\n",
       "    .dataframe thead th {\n",
       "        text-align: right;\n",
       "    }\n",
       "</style>\n",
       "<table border=\"1\" class=\"dataframe\">\n",
       "  <thead>\n",
       "    <tr style=\"text-align: right;\">\n",
       "      <th></th>\n",
       "      <th>id</th>\n",
       "      <th>entity</th>\n",
       "      <th>sentiment</th>\n",
       "      <th>text</th>\n",
       "    </tr>\n",
       "  </thead>\n",
       "  <tbody>\n",
       "    <tr>\n",
       "      <th>0</th>\n",
       "      <td>2401</td>\n",
       "      <td>Borderlands</td>\n",
       "      <td>Positive</td>\n",
       "      <td>im getting on borderlands and i will murder yo...</td>\n",
       "    </tr>\n",
       "    <tr>\n",
       "      <th>1</th>\n",
       "      <td>2401</td>\n",
       "      <td>Borderlands</td>\n",
       "      <td>Positive</td>\n",
       "      <td>I am coming to the borders and I will kill you...</td>\n",
       "    </tr>\n",
       "    <tr>\n",
       "      <th>2</th>\n",
       "      <td>2401</td>\n",
       "      <td>Borderlands</td>\n",
       "      <td>Positive</td>\n",
       "      <td>im getting on borderlands and i will kill you ...</td>\n",
       "    </tr>\n",
       "    <tr>\n",
       "      <th>3</th>\n",
       "      <td>2401</td>\n",
       "      <td>Borderlands</td>\n",
       "      <td>Positive</td>\n",
       "      <td>im coming on borderlands and i will murder you...</td>\n",
       "    </tr>\n",
       "    <tr>\n",
       "      <th>4</th>\n",
       "      <td>2401</td>\n",
       "      <td>Borderlands</td>\n",
       "      <td>Positive</td>\n",
       "      <td>im getting on borderlands 2 and i will murder ...</td>\n",
       "    </tr>\n",
       "  </tbody>\n",
       "</table>\n",
       "</div>"
      ],
      "text/plain": [
       "     id       entity sentiment  \\\n",
       "0  2401  Borderlands  Positive   \n",
       "1  2401  Borderlands  Positive   \n",
       "2  2401  Borderlands  Positive   \n",
       "3  2401  Borderlands  Positive   \n",
       "4  2401  Borderlands  Positive   \n",
       "\n",
       "                                                text  \n",
       "0  im getting on borderlands and i will murder yo...  \n",
       "1  I am coming to the borders and I will kill you...  \n",
       "2  im getting on borderlands and i will kill you ...  \n",
       "3  im coming on borderlands and i will murder you...  \n",
       "4  im getting on borderlands 2 and i will murder ...  "
      ]
     },
     "metadata": {},
     "output_type": "display_data"
    },
    {
     "data": {
      "text/html": [
       "<div>\n",
       "<style scoped>\n",
       "    .dataframe tbody tr th:only-of-type {\n",
       "        vertical-align: middle;\n",
       "    }\n",
       "\n",
       "    .dataframe tbody tr th {\n",
       "        vertical-align: top;\n",
       "    }\n",
       "\n",
       "    .dataframe thead th {\n",
       "        text-align: right;\n",
       "    }\n",
       "</style>\n",
       "<table border=\"1\" class=\"dataframe\">\n",
       "  <thead>\n",
       "    <tr style=\"text-align: right;\">\n",
       "      <th></th>\n",
       "      <th>id</th>\n",
       "      <th>entity</th>\n",
       "      <th>sentiment</th>\n",
       "      <th>text</th>\n",
       "    </tr>\n",
       "  </thead>\n",
       "  <tbody>\n",
       "    <tr>\n",
       "      <th>0</th>\n",
       "      <td>3364</td>\n",
       "      <td>Facebook</td>\n",
       "      <td>Irrelevant</td>\n",
       "      <td>I mentioned on Facebook that I was struggling ...</td>\n",
       "    </tr>\n",
       "    <tr>\n",
       "      <th>1</th>\n",
       "      <td>352</td>\n",
       "      <td>Amazon</td>\n",
       "      <td>Neutral</td>\n",
       "      <td>BBC News - Amazon boss Jeff Bezos rejects clai...</td>\n",
       "    </tr>\n",
       "    <tr>\n",
       "      <th>2</th>\n",
       "      <td>8312</td>\n",
       "      <td>Microsoft</td>\n",
       "      <td>Negative</td>\n",
       "      <td>@Microsoft Why do I pay for WORD when it funct...</td>\n",
       "    </tr>\n",
       "    <tr>\n",
       "      <th>3</th>\n",
       "      <td>4371</td>\n",
       "      <td>CS-GO</td>\n",
       "      <td>Negative</td>\n",
       "      <td>CSGO matchmaking is so full of closet hacking,...</td>\n",
       "    </tr>\n",
       "    <tr>\n",
       "      <th>4</th>\n",
       "      <td>4433</td>\n",
       "      <td>Google</td>\n",
       "      <td>Neutral</td>\n",
       "      <td>Now the President is slapping Americans in the...</td>\n",
       "    </tr>\n",
       "  </tbody>\n",
       "</table>\n",
       "</div>"
      ],
      "text/plain": [
       "     id     entity   sentiment  \\\n",
       "0  3364   Facebook  Irrelevant   \n",
       "1   352     Amazon     Neutral   \n",
       "2  8312  Microsoft    Negative   \n",
       "3  4371      CS-GO    Negative   \n",
       "4  4433     Google     Neutral   \n",
       "\n",
       "                                                text  \n",
       "0  I mentioned on Facebook that I was struggling ...  \n",
       "1  BBC News - Amazon boss Jeff Bezos rejects clai...  \n",
       "2  @Microsoft Why do I pay for WORD when it funct...  \n",
       "3  CSGO matchmaking is so full of closet hacking,...  \n",
       "4  Now the President is slapping Americans in the...  "
      ]
     },
     "metadata": {},
     "output_type": "display_data"
    }
   ],
   "source": [
    "train = pd.read_csv('./twitter_training.csv', names=['id', 'entity', 'sentiment', 'text'])\n",
    "test = pd.read_csv('./twitter_validation.csv', names=['id', 'entity', 'sentiment', 'text'])\n",
    "print(train.shape)\n",
    "print(test.shape)\n",
    "\n",
    "display(train.head())\n",
    "display(test.head())"
   ]
  },
  {
   "cell_type": "code",
   "execution_count": 53,
   "id": "a78c5bbc",
   "metadata": {},
   "outputs": [
    {
     "data": {
      "text/plain": [
       "id             0\n",
       "entity         0\n",
       "sentiment      0\n",
       "text         686\n",
       "dtype: int64"
      ]
     },
     "execution_count": 53,
     "metadata": {},
     "output_type": "execute_result"
    }
   ],
   "source": [
    "train.isna().sum()"
   ]
  },
  {
   "cell_type": "code",
   "execution_count": 55,
   "id": "733ecc84",
   "metadata": {},
   "outputs": [],
   "source": [
    "# droping NAs since they are less then 1%\n",
    "train.dropna(inplace=True)"
   ]
  },
  {
   "cell_type": "code",
   "execution_count": 60,
   "id": "6ba99f49",
   "metadata": {},
   "outputs": [],
   "source": [
    "train['text'] = train['text'].str.lower()"
   ]
  },
  {
   "cell_type": "code",
   "execution_count": 70,
   "id": "4dfd6314",
   "metadata": {},
   "outputs": [
    {
     "name": "stdout",
     "output_type": "stream",
     "text": [
      "by maaaaaannnnnnnnn wtf be going on on facebook .  pic.twitter.com/qy8m4wnlra\n",
      "--------------------------------------------------\n",
      "Negative\n",
      "--------------------------------------------------\n",
      "\n",
      "the other absolute worst\n",
      "--------------------------------------------------\n",
      "Negative\n",
      "--------------------------------------------------\n",
      "\n",
      "every good heist requires some paid help . . why fifa 21 will be amazing- the fifa job part 2 . . youtube.com/watch?v=qa5omm… https://t.co/gvrfoepdoz\n",
      "--------------------------------------------------\n",
      "Negative\n",
      "--------------------------------------------------\n",
      "\n",
      "i miss borderland's tumblr so much - so many of those accounts i used to love have been deactivated - that i will never return to the fandom. < / 3\n",
      "--------------------------------------------------\n",
      "Irrelevant\n",
      "--------------------------------------------------\n",
      "\n",
      "if only in fortnite can there be always a tournament for over all a million dollars if and multiple people can't actually play half of their games due to a loading screen player bug and are already losing a lot of of money and potentially qualifying to the possible next ranking round lmfao\n",
      "--------------------------------------------------\n",
      "Negative\n",
      "--------------------------------------------------\n",
      "\n",
      "nope, that's it.\n",
      "--------------------------------------------------\n",
      "Neutral\n",
      "--------------------------------------------------\n",
      "\n",
      "@bjp4bengal's andrew mitra is sharing misleading reports about facebook... he says please look at this and takes all precautions... link: facebook.com/1059690706/pos... https://t.co/blizxnyoif]\n",
      "--------------------------------------------------\n",
      "Neutral\n",
      "--------------------------------------------------\n",
      "\n",
      "black ops gone war’s writing has gone under multiple different hands. so many missions have got reworked/changed/cancelled. the entire script was at completely related to black ops and they left that all in after treyarch took over.\n",
      "--------------------------------------------------\n",
      "Neutral\n",
      "--------------------------------------------------\n",
      "\n",
      "good game. tch.tv / flixlapss / cli...\n",
      "--------------------------------------------------\n",
      "Positive\n",
      "--------------------------------------------------\n",
      "\n",
      "il matchmaking e gli su account e smurf. fate cagare se @ubisoftsupport\n",
      "--------------------------------------------------\n",
      "Negative\n",
      "--------------------------------------------------\n",
      "\n"
     ]
    }
   ],
   "source": [
    "#red_dead = train[train['text'].str.contains('red dead')]\n",
    "#print(red_dead.shape)\n",
    "#samples = red_dead.sample(10)\n",
    "\n",
    "samples = train.sample(10)\n",
    "for idx, row in samples.iterrows():\n",
    "    print(row['text'])\n",
    "    print(\"-\"*50)\n",
    "    print(row['sentiment'])\n",
    "    print(\"-\"*50)\n",
    "    print(\"\")"
   ]
  },
  {
   "cell_type": "markdown",
   "id": "c2dba4cf",
   "metadata": {},
   "source": [
    "### Assessing some random tweets to find potential issues\n",
    "\n",
    "- Most mentions to \"Red Dead Redeeming\" seem to be good but they have \"dead\", this can be confusing"
   ]
  },
  {
   "cell_type": "code",
   "execution_count": 67,
   "id": "2a7ad496",
   "metadata": {},
   "outputs": [],
   "source": [
    "# replacing red dead redeemption by '' to remove confusion with word 'dead'\n",
    "train['text'] = train['text'].str.replace('red dead redemption', '')\n",
    "train['text'] = train['text'].str.replace('red dead', '')"
   ]
  },
  {
   "cell_type": "code",
   "execution_count": 71,
   "id": "fa1fa4c3",
   "metadata": {},
   "outputs": [
    {
     "data": {
      "text/plain": [
       "Negative      22358\n",
       "Positive      20655\n",
       "Neutral       18108\n",
       "Irrelevant    12875\n",
       "Name: sentiment, dtype: int64"
      ]
     },
     "execution_count": 71,
     "metadata": {},
     "output_type": "execute_result"
    }
   ],
   "source": [
    "# how many for each sentiment\n",
    "train['sentiment'].value_counts()"
   ]
  },
  {
   "cell_type": "code",
   "execution_count": 74,
   "id": "eba8b2b5",
   "metadata": {},
   "outputs": [
    {
     "data": {
      "text/plain": [
       "Negative    22358\n",
       "Positive    20655\n",
       "Neutral     18108\n",
       "Name: sentiment, dtype: int64"
      ]
     },
     "execution_count": 74,
     "metadata": {},
     "output_type": "execute_result"
    }
   ],
   "source": [
    "# removing all \"irrelevant\" since they don't help to build our model\n",
    "train = train[train['sentiment'] != 'Irrelevant']\n",
    "train['sentiment'].value_counts()"
   ]
  },
  {
   "cell_type": "code",
   "execution_count": 76,
   "id": "cf86d71a",
   "metadata": {},
   "outputs": [
    {
     "data": {
      "text/html": [
       "<div>\n",
       "<style scoped>\n",
       "    .dataframe tbody tr th:only-of-type {\n",
       "        vertical-align: middle;\n",
       "    }\n",
       "\n",
       "    .dataframe tbody tr th {\n",
       "        vertical-align: top;\n",
       "    }\n",
       "\n",
       "    .dataframe thead th {\n",
       "        text-align: right;\n",
       "    }\n",
       "</style>\n",
       "<table border=\"1\" class=\"dataframe\">\n",
       "  <thead>\n",
       "    <tr style=\"text-align: right;\">\n",
       "      <th></th>\n",
       "      <th>id</th>\n",
       "      <th>entity</th>\n",
       "      <th>text</th>\n",
       "    </tr>\n",
       "    <tr>\n",
       "      <th>sentiment</th>\n",
       "      <th></th>\n",
       "      <th></th>\n",
       "      <th></th>\n",
       "    </tr>\n",
       "  </thead>\n",
       "  <tbody>\n",
       "    <tr>\n",
       "      <th>Negative</th>\n",
       "      <td>3757</td>\n",
       "      <td>32</td>\n",
       "      <td>21154</td>\n",
       "    </tr>\n",
       "    <tr>\n",
       "      <th>Neutral</th>\n",
       "      <td>3053</td>\n",
       "      <td>32</td>\n",
       "      <td>17060</td>\n",
       "    </tr>\n",
       "    <tr>\n",
       "      <th>Positive</th>\n",
       "      <td>3472</td>\n",
       "      <td>32</td>\n",
       "      <td>19026</td>\n",
       "    </tr>\n",
       "  </tbody>\n",
       "</table>\n",
       "</div>"
      ],
      "text/plain": [
       "             id  entity   text\n",
       "sentiment                     \n",
       "Negative   3757      32  21154\n",
       "Neutral    3053      32  17060\n",
       "Positive   3472      32  19026"
      ]
     },
     "execution_count": 76,
     "metadata": {},
     "output_type": "execute_result"
    }
   ],
   "source": [
    "#How's distributed the dataset? Is it biased?\n",
    "train.groupby('sentiment').nunique()"
   ]
  },
  {
   "cell_type": "code",
   "execution_count": 77,
   "id": "1a372529",
   "metadata": {},
   "outputs": [
    {
     "data": {
      "text/html": [
       "<div>\n",
       "<style scoped>\n",
       "    .dataframe tbody tr th:only-of-type {\n",
       "        vertical-align: middle;\n",
       "    }\n",
       "\n",
       "    .dataframe tbody tr th {\n",
       "        vertical-align: top;\n",
       "    }\n",
       "\n",
       "    .dataframe thead th {\n",
       "        text-align: right;\n",
       "    }\n",
       "</style>\n",
       "<table border=\"1\" class=\"dataframe\">\n",
       "  <thead>\n",
       "    <tr style=\"text-align: right;\">\n",
       "      <th></th>\n",
       "      <th>text</th>\n",
       "      <th>sentiment</th>\n",
       "    </tr>\n",
       "  </thead>\n",
       "  <tbody>\n",
       "    <tr>\n",
       "      <th>0</th>\n",
       "      <td>im getting on borderlands and i will murder yo...</td>\n",
       "      <td>Positive</td>\n",
       "    </tr>\n",
       "    <tr>\n",
       "      <th>1</th>\n",
       "      <td>i am coming to the borders and i will kill you...</td>\n",
       "      <td>Positive</td>\n",
       "    </tr>\n",
       "    <tr>\n",
       "      <th>2</th>\n",
       "      <td>im getting on borderlands and i will kill you ...</td>\n",
       "      <td>Positive</td>\n",
       "    </tr>\n",
       "    <tr>\n",
       "      <th>3</th>\n",
       "      <td>im coming on borderlands and i will murder you...</td>\n",
       "      <td>Positive</td>\n",
       "    </tr>\n",
       "    <tr>\n",
       "      <th>4</th>\n",
       "      <td>im getting on borderlands 2 and i will murder ...</td>\n",
       "      <td>Positive</td>\n",
       "    </tr>\n",
       "  </tbody>\n",
       "</table>\n",
       "</div>"
      ],
      "text/plain": [
       "                                                text sentiment\n",
       "0  im getting on borderlands and i will murder yo...  Positive\n",
       "1  i am coming to the borders and i will kill you...  Positive\n",
       "2  im getting on borderlands and i will kill you ...  Positive\n",
       "3  im coming on borderlands and i will murder you...  Positive\n",
       "4  im getting on borderlands 2 and i will murder ...  Positive"
      ]
     },
     "execution_count": 77,
     "metadata": {},
     "output_type": "execute_result"
    }
   ],
   "source": [
    "#Let's keep only the columns that we're going to use\n",
    "train = train[['text','sentiment']]\n",
    "train.head()"
   ]
  },
  {
   "cell_type": "markdown",
   "id": "ee958f85",
   "metadata": {},
   "source": [
    "## The next steps about data cleaning will be:\n",
    "- Remove URLs from the tweets\n",
    "- Tokenize text\n",
    "- Remove emails\n",
    "- Remove new lines characters\n",
    "- Remove distracting single quotes\n",
    "- Remove all punctuation signs\n",
    "- Lowercase all text\n",
    "- Detokenize text\n",
    "- Convert list of texts to Numpy array"
   ]
  },
  {
   "cell_type": "code",
   "execution_count": 80,
   "id": "c502a9d9",
   "metadata": {},
   "outputs": [],
   "source": [
    "def depure_data(data):\n",
    "    \n",
    "    #Removing URLs with a regular expression\n",
    "    url_pattern = re.compile(r'https?://\\S+|www\\.\\S+')\n",
    "    data = url_pattern.sub(r'', data)\n",
    "\n",
    "    # Remove Emails\n",
    "    data = re.sub('\\S*@\\S*\\s?', '', data)\n",
    "\n",
    "    # Remove new line characters\n",
    "    data = re.sub('\\s+', ' ', data)\n",
    "\n",
    "    # Remove distracting single quotes\n",
    "    data = re.sub(\"\\'\", \"\", data)\n",
    "        \n",
    "    return data"
   ]
  },
  {
   "cell_type": "code",
   "execution_count": 81,
   "id": "690272fd",
   "metadata": {},
   "outputs": [
    {
     "data": {
      "text/plain": [
       "['im getting on borderlands and i will murder you all ,',\n",
       " 'i am coming to the borders and i will kill you all,',\n",
       " 'im getting on borderlands and i will kill you all,',\n",
       " 'im coming on borderlands and i will murder you all,',\n",
       " 'im getting on borderlands 2 and i will murder you me all,']"
      ]
     },
     "execution_count": 81,
     "metadata": {},
     "output_type": "execute_result"
    }
   ],
   "source": [
    "temp = []\n",
    "#Splitting pd.Series to list\n",
    "data_to_list = train['text'].values.tolist()\n",
    "for i in range(len(data_to_list)):\n",
    "    temp.append(depure_data(data_to_list[i]))\n",
    "list(temp[:5])"
   ]
  },
  {
   "cell_type": "code",
   "execution_count": 82,
   "id": "f3ff22d2",
   "metadata": {},
   "outputs": [
    {
     "name": "stdout",
     "output_type": "stream",
     "text": [
      "[['im', 'getting', 'on', 'borderlands', 'and', 'will', 'murder', 'you', 'all'], ['am', 'coming', 'to', 'the', 'borders', 'and', 'will', 'kill', 'you', 'all'], ['im', 'getting', 'on', 'borderlands', 'and', 'will', 'kill', 'you', 'all'], ['im', 'coming', 'on', 'borderlands', 'and', 'will', 'murder', 'you', 'all'], ['im', 'getting', 'on', 'borderlands', 'and', 'will', 'murder', 'you', 'me', 'all'], ['im', 'getting', 'into', 'borderlands', 'and', 'can', 'murder', 'you', 'all'], ['so', 'spent', 'few', 'hours', 'making', 'something', 'for', 'fun', 'if', 'you', 'dont', 'know', 'am', 'huge', 'fan', 'and', 'maya', 'is', 'one', 'of', 'my', 'favorite', 'characters', 'so', 'decided', 'to', 'make', 'myself', 'wallpaper', 'for', 'my', 'pc', 'here', 'is', 'the', 'original', 'image', 'versus', 'the', 'creation', 'made', 'enjoy', 'pic', 'twitter', 'com', 'mlsi', 'wf', 'jg'], ['so', 'spent', 'couple', 'of', 'hours', 'doing', 'something', 'for', 'fun', 'if', 'you', 'dont', 'know', 'that', 'im', 'huge', 'borderlands', 'fan', 'and', 'maya', 'is', 'one', 'of', 'my', 'favorite', 'characters', 'decided', 'to', 'make', 'wallpaper', 'for', 'my', 'pc', 'heres', 'the', 'original', 'picture', 'compared', 'to', 'the', 'creation', 'made', 'have', 'fun', 'pic', 'twitter', 'com', 'mlsi', 'wf', 'jg'], ['so', 'spent', 'few', 'hours', 'doing', 'something', 'for', 'fun', 'if', 'you', 'dont', 'know', 'im', 'huge', 'borderlands', 'fan', 'and', 'maya', 'is', 'one', 'of', 'my', 'favorite', 'characters'], ['so', 'spent', 'few', 'hours', 'making', 'something', 'for', 'fun', 'if', 'you', 'dont', 'know', 'am', 'huge', 'rhandlerr', 'fan', 'and', 'maya', 'is', 'one', 'of', 'my', 'favorite', 'characters', 'so', 'decided', 'to', 'make', 'myself', 'wallpaper', 'for', 'my', 'pc', 'here', 'is', 'the', 'original', 'image', 'versus', 'the', 'creation', 'made', 'enjoy', 'pic', 'twitter', 'com', 'mlsi', 'wf', 'jg']]\n"
     ]
    }
   ],
   "source": [
    "def sent_to_words(sentences):\n",
    "    for sentence in sentences:\n",
    "        yield(gensim.utils.simple_preprocess(str(sentence), deacc=True))  # deacc=True removes punctuations\n",
    "        \n",
    "\n",
    "data_words = list(sent_to_words(temp))\n",
    "\n",
    "print(data_words[:10])"
   ]
  },
  {
   "cell_type": "code",
   "execution_count": 83,
   "id": "c0d53121",
   "metadata": {},
   "outputs": [
    {
     "data": {
      "text/plain": [
       "61121"
      ]
     },
     "execution_count": 83,
     "metadata": {},
     "output_type": "execute_result"
    }
   ],
   "source": [
    "len(data_words)\n",
    "        "
   ]
  },
  {
   "cell_type": "code",
   "execution_count": 84,
   "id": "fc241c8d",
   "metadata": {},
   "outputs": [],
   "source": [
    "def detokenize(text):\n",
    "    return TreebankWordDetokenizer().detokenize(text)"
   ]
  },
  {
   "cell_type": "code",
   "execution_count": 85,
   "id": "94ba82d1",
   "metadata": {},
   "outputs": [
    {
     "name": "stdout",
     "output_type": "stream",
     "text": [
      "['im getting on borderlands and will murder you all', 'am coming to the borders and will kill you all', 'im getting on borderlands and will kill you all', 'im coming on borderlands and will murder you all', 'im getting on borderlands and will murder you me all']\n"
     ]
    }
   ],
   "source": [
    "data = []\n",
    "for i in range(len(data_words)):\n",
    "    data.append(detokenize(data_words[i]))\n",
    "print(data[:5])"
   ]
  },
  {
   "cell_type": "code",
   "execution_count": 86,
   "id": "7a4d6f98",
   "metadata": {},
   "outputs": [],
   "source": [
    "data = np.array(data)"
   ]
  },
  {
   "cell_type": "markdown",
   "id": "1207e91c",
   "metadata": {},
   "source": [
    "## Label encoding\n",
    "As the dataset is categorical, we need to convert the sentiment labels from Neutral, Negative and Positive to a float type that our model can understand. To achieve this task, we'll implement the to_categorical method from Keras."
   ]
  },
  {
   "cell_type": "code",
   "execution_count": 90,
   "id": "b3c5b833",
   "metadata": {},
   "outputs": [],
   "source": [
    "labels = np.array(train['sentiment'])\n",
    "y = []\n",
    "for i in range(len(labels)):\n",
    "    if labels[i] == 'Neutral':\n",
    "        y.append(0)\n",
    "    if labels[i] == 'Negative':\n",
    "        y.append(1)\n",
    "    if labels[i] == 'Positive':\n",
    "        y.append(2)\n",
    "y = np.array(y)\n",
    "labels = tf.keras.utils.to_categorical(y, 3, dtype=\"float32\")\n",
    "del y"
   ]
  },
  {
   "cell_type": "code",
   "execution_count": 88,
   "id": "4ddf777b",
   "metadata": {},
   "outputs": [
    {
     "data": {
      "text/plain": [
       "array(['Positive', 'Positive', 'Positive', ..., 'Positive', 'Positive',\n",
       "       'Positive'], dtype=object)"
      ]
     },
     "execution_count": 88,
     "metadata": {},
     "output_type": "execute_result"
    }
   ],
   "source": [
    "np.array(train['sentiment'])"
   ]
  },
  {
   "cell_type": "code",
   "execution_count": 91,
   "id": "dacfefa6",
   "metadata": {},
   "outputs": [
    {
     "data": {
      "text/plain": [
       "array([[0., 0., 1.],\n",
       "       [0., 0., 1.],\n",
       "       [0., 0., 1.],\n",
       "       ...,\n",
       "       [0., 0., 1.],\n",
       "       [0., 0., 1.],\n",
       "       [0., 0., 1.]], dtype=float32)"
      ]
     },
     "execution_count": 91,
     "metadata": {},
     "output_type": "execute_result"
    }
   ],
   "source": [
    "labels"
   ]
  },
  {
   "cell_type": "markdown",
   "id": "3aab31d4",
   "metadata": {},
   "source": [
    "## Data sequencing and splitting\n",
    "We'll implement the Keras tokenizer as well as its pad_sequences method to transform our text data into 3D float data, otherwise our neural networks won't be able to be trained on it."
   ]
  },
  {
   "cell_type": "code",
   "execution_count": 145,
   "id": "a8c50c30",
   "metadata": {},
   "outputs": [
    {
     "name": "stdout",
     "output_type": "stream",
     "text": [
      "[[   0    0    0 ... 1598   12   24]\n",
      " [   0    0    0 ...  417   12   24]\n",
      " [   0    0    0 ...  417   12   24]\n",
      " ...\n",
      " [   0    0    0 ...  132  697 2410]\n",
      " [   0    0    0 ...  127  697 2410]\n",
      " [   0    0    0 ...   62  697 2410]]\n"
     ]
    }
   ],
   "source": [
    "import keras\n",
    "from keras.models import Sequential\n",
    "from keras import layers\n",
    "from keras.optimizers import RMSprop,Adam\n",
    "from keras.preprocessing.text import Tokenizer\n",
    "#from keras.preprocessing.sequence import pad_sequences\n",
    "from tensorflow.keras.preprocessing.sequence import pad_sequences\n",
    "from keras import regularizers\n",
    "from keras import backend as K\n",
    "from keras.callbacks import ModelCheckpoint\n",
    "max_words = 8000\n",
    "max_len = 200\n",
    "\n",
    "tokenizer = Tokenizer(num_words=max_words)\n",
    "tokenizer.fit_on_texts(data)\n",
    "sequences = tokenizer.texts_to_sequences(data)\n",
    "tweets = pad_sequences(sequences, maxlen=max_len)\n",
    "print(tweets)"
   ]
  },
  {
   "cell_type": "code",
   "execution_count": 146,
   "id": "e0cc6583",
   "metadata": {},
   "outputs": [
    {
     "name": "stdout",
     "output_type": "stream",
     "text": [
      "45840 15281 45840 15281\n"
     ]
    }
   ],
   "source": [
    "#Splitting the data\n",
    "X_train, X_test, y_train, y_test = train_test_split(tweets,labels, test_size=.25, random_state=0, )\n",
    "print (len(X_train),len(X_test),len(y_train),len(y_test))"
   ]
  },
  {
   "cell_type": "markdown",
   "id": "2b749caf",
   "metadata": {},
   "source": [
    "# Model building\n",
    "Alright, in the next cells I'll guide you through the process of building 3 Recurrent Neural Networks. I'll implement sequential models from the Keras API to achieve this task. Essentially, I'll start with a single layer LSTM network which is known by achieving good results in NLP tasks when the dataset is relatively small (I could have started with a SimpleRNN which is even simpler, but to be honest it's actually not deployed in production environments because it is too simple - however I'll leave it commented in case you want to know it's built). The next one will be a Bidirectional LSTM model, a more complex one and this particular one is known to achieve great metrics when talking about text classification. To go beyond the classic NLP approach, finally we'll implement a very unusual model: a Convolutional 1D network, known as well by delivering good metrics when talking about NLP. If everything goes ok, we should get the best results with the BidRNN, let's see what happens.\n",
    "\n",
    "Let's get hands on:"
   ]
  },
  {
   "cell_type": "markdown",
   "id": "468c54a2",
   "metadata": {},
   "source": [
    "### SimpleRNN model (Bonus)"
   ]
  },
  {
   "cell_type": "code",
   "execution_count": null,
   "id": "edeea33c",
   "metadata": {},
   "outputs": [],
   "source": [
    "#model0 = Sequential()\n",
    "#model0.add(layers.Embedding(max_words, 15))\n",
    "#model0.add(layers.SimpleRNN(15))\n",
    "#model0.add(layers.Dense(3,activation='softmax'))\n",
    "\n",
    "\n",
    "#model0.compile(optimizer='rmsprop',loss='categorical_crossentropy', metrics=['accuracy'])\n",
    "#Implementing model checkpoins to save the best metric and do not lose it on training.\n",
    "#checkpoint0 = ModelCheckpoint(\"best_model0.hdf5\", monitor='val_accuracy', verbose=1,save_best_only=True, mode='auto', period=1,save_weights_only=False)\n",
    "#history = model0.fit(X_train, y_train, epochs=5,validation_data=(X_test, y_test),callbacks=[checkpoint0])"
   ]
  },
  {
   "cell_type": "markdown",
   "id": "c928247f",
   "metadata": {},
   "source": [
    "### Bidirectional LTSM model"
   ]
  },
  {
   "cell_type": "code",
   "execution_count": 147,
   "id": "95973f4c",
   "metadata": {},
   "outputs": [
    {
     "name": "stdout",
     "output_type": "stream",
     "text": [
      "WARNING:tensorflow:`period` argument is deprecated. Please use `save_freq` to specify the frequency in number of batches seen.\n",
      "Epoch 1/10\n",
      "1433/1433 [==============================] - ETA: 0s - loss: 0.8868 - accuracy: 0.5947\n",
      "Epoch 1: val_accuracy improved from -inf to 0.67679, saving model to best_model_BidLTSM.hdf5\n",
      "1433/1433 [==============================] - 131s 89ms/step - loss: 0.8868 - accuracy: 0.5947 - val_loss: 0.7667 - val_accuracy: 0.6768\n",
      "Epoch 2/10\n",
      "1433/1433 [==============================] - ETA: 0s - loss: 0.7184 - accuracy: 0.7000\n",
      "Epoch 2: val_accuracy improved from 0.67679 to 0.71357, saving model to best_model_BidLTSM.hdf5\n",
      "1433/1433 [==============================] - 120s 84ms/step - loss: 0.7184 - accuracy: 0.7000 - val_loss: 0.6968 - val_accuracy: 0.7136\n",
      "Epoch 3/10\n",
      "1433/1433 [==============================] - ETA: 0s - loss: 0.6610 - accuracy: 0.7259\n",
      "Epoch 3: val_accuracy improved from 0.71357 to 0.72822, saving model to best_model_BidLTSM.hdf5\n",
      "1433/1433 [==============================] - 129s 90ms/step - loss: 0.6610 - accuracy: 0.7259 - val_loss: 0.6664 - val_accuracy: 0.7282\n",
      "Epoch 4/10\n",
      "1433/1433 [==============================] - ETA: 0s - loss: 0.6210 - accuracy: 0.7433\n",
      "Epoch 4: val_accuracy improved from 0.72822 to 0.73588, saving model to best_model_BidLTSM.hdf5\n",
      "1433/1433 [==============================] - 136s 95ms/step - loss: 0.6210 - accuracy: 0.7433 - val_loss: 0.6453 - val_accuracy: 0.7359\n",
      "Epoch 5/10\n",
      "1433/1433 [==============================] - ETA: 0s - loss: 0.5947 - accuracy: 0.7584\n",
      "Epoch 5: val_accuracy improved from 0.73588 to 0.75211, saving model to best_model_BidLTSM.hdf5\n",
      "1433/1433 [==============================] - 137s 96ms/step - loss: 0.5947 - accuracy: 0.7584 - val_loss: 0.6142 - val_accuracy: 0.7521\n",
      "Epoch 6/10\n",
      "1433/1433 [==============================] - ETA: 0s - loss: 0.5691 - accuracy: 0.7691\n",
      "Epoch 6: val_accuracy did not improve from 0.75211\n",
      "1433/1433 [==============================] - 133s 93ms/step - loss: 0.5691 - accuracy: 0.7691 - val_loss: 0.6208 - val_accuracy: 0.7464\n",
      "Epoch 7/10\n",
      "1433/1433 [==============================] - ETA: 0s - loss: 0.5468 - accuracy: 0.7797\n",
      "Epoch 7: val_accuracy improved from 0.75211 to 0.77070, saving model to best_model_BidLTSM.hdf5\n",
      "1433/1433 [==============================] - 129s 90ms/step - loss: 0.5468 - accuracy: 0.7797 - val_loss: 0.5783 - val_accuracy: 0.7707\n",
      "Epoch 8/10\n",
      "1433/1433 [==============================] - ETA: 0s - loss: 0.5275 - accuracy: 0.7863\n",
      "Epoch 8: val_accuracy improved from 0.77070 to 0.77789, saving model to best_model_BidLTSM.hdf5\n",
      "1433/1433 [==============================] - 155s 108ms/step - loss: 0.5275 - accuracy: 0.7863 - val_loss: 0.5637 - val_accuracy: 0.7779\n",
      "Epoch 9/10\n",
      "1433/1433 [==============================] - ETA: 0s - loss: 0.5123 - accuracy: 0.7937\n",
      "Epoch 9: val_accuracy improved from 0.77789 to 0.78110, saving model to best_model_BidLTSM.hdf5\n",
      "1433/1433 [==============================] - 155s 109ms/step - loss: 0.5123 - accuracy: 0.7937 - val_loss: 0.5537 - val_accuracy: 0.7811\n",
      "Epoch 10/10\n",
      "1433/1433 [==============================] - ETA: 0s - loss: 0.4992 - accuracy: 0.8030\n",
      "Epoch 10: val_accuracy improved from 0.78110 to 0.78568, saving model to best_model_BidLTSM.hdf5\n",
      "1433/1433 [==============================] - 172s 120ms/step - loss: 0.4992 - accuracy: 0.8030 - val_loss: 0.5409 - val_accuracy: 0.7857\n"
     ]
    }
   ],
   "source": [
    "model2 = Sequential()\n",
    "model2.add(layers.Embedding(max_words, 40, input_length=max_len))\n",
    "model2.add(layers.Bidirectional(layers.LSTM(20,dropout=0.6)))\n",
    "model2.add(layers.Dense(3,activation='softmax'))\n",
    "model2.compile(optimizer='rmsprop',loss='categorical_crossentropy', metrics=['accuracy'])\n",
    "#Implementing model checkpoins to save the best metric and do not lose it on training.\n",
    "checkpoint2 = ModelCheckpoint(\"best_model_BidLTSM.hdf5\", monitor='val_accuracy', verbose=1,save_best_only=True, mode='auto', period=1,save_weights_only=False)\n",
    "history = model2.fit(X_train, y_train, epochs=10,validation_data=(X_test, y_test),callbacks=[checkpoint2])\n",
    "# TODO: baixei o epochs de 70 pra 5 soh pra ser mais rapido, esse aqui demora um pouco mais que o outro, \n",
    "# cerca de 52s por epoch"
   ]
  },
  {
   "cell_type": "markdown",
   "id": "b384209a",
   "metadata": {},
   "source": [
    "### Best model validation\n",
    "(Before final commit, the best model obtained was the BidRNN)"
   ]
  },
  {
   "cell_type": "code",
   "execution_count": 148,
   "id": "1414a503",
   "metadata": {},
   "outputs": [],
   "source": [
    "#Let's load the best model obtained during training\n",
    "best_model = keras.models.load_model(\"best_model_BidLTSM.hdf5\")"
   ]
  },
  {
   "cell_type": "code",
   "execution_count": 149,
   "id": "b1b1686f",
   "metadata": {},
   "outputs": [
    {
     "name": "stdout",
     "output_type": "stream",
     "text": [
      "478/478 - 8s - loss: 0.5409 - accuracy: 0.7857 - 8s/epoch - 17ms/step\n",
      "Model accuracy:  0.7856815457344055\n"
     ]
    }
   ],
   "source": [
    "test_loss, test_acc = best_model.evaluate(X_test, y_test, verbose=2)\n",
    "print('Model accuracy: ',test_acc)"
   ]
  },
  {
   "cell_type": "code",
   "execution_count": 150,
   "id": "170d7d94",
   "metadata": {},
   "outputs": [
    {
     "name": "stdout",
     "output_type": "stream",
     "text": [
      "478/478 [==============================] - 9s 17ms/step\n"
     ]
    }
   ],
   "source": [
    "predictions = best_model.predict(X_test)"
   ]
  },
  {
   "cell_type": "markdown",
   "id": "5af0107c",
   "metadata": {},
   "source": [
    "### Confusion matrix\n",
    "Alright, we all know the accuracy is not a good metric to measure how well a model is. That's the reason why I like to always see its confusion matrix, that way I have a better understanding of its classification and generalization ability. Let's plot it."
   ]
  },
  {
   "cell_type": "code",
   "execution_count": 151,
   "id": "5637b33f",
   "metadata": {},
   "outputs": [],
   "source": [
    "from sklearn.metrics import confusion_matrix\n",
    "matrix = confusion_matrix(y_test.argmax(axis=1), np.around(predictions, decimals=0).argmax(axis=1))"
   ]
  },
  {
   "cell_type": "code",
   "execution_count": 152,
   "id": "cd55ce57",
   "metadata": {},
   "outputs": [
    {
     "name": "stderr",
     "output_type": "stream",
     "text": [
      "/tmp/ipykernel_13281/1952504690.py:4: FutureWarning: Support for multi-dimensional indexing (e.g. `obj[:, None]`) is deprecated and will be removed in a future version.  Convert to a numpy array before indexing instead.\n",
      "  conf_matrix = conf_matrix.astype('float') / conf_matrix.sum(axis=1)[:, np.newaxis]\n"
     ]
    },
    {
     "data": {
      "text/plain": [
       "<AxesSubplot: >"
      ]
     },
     "execution_count": 152,
     "metadata": {},
     "output_type": "execute_result"
    },
    {
     "data": {
      "image/png": "[encoded data removed]",
      "text/plain": [
       "<Figure size 1500x1500 with 2 Axes>"
      ]
     },
     "metadata": {},
     "output_type": "display_data"
    }
   ],
   "source": [
    "import seaborn as sns\n",
    "conf_matrix = pd.DataFrame(matrix, index = ['Neutral','Negative','Positive'],columns = ['Neutral','Negative','Positive'])\n",
    "#Normalizing\n",
    "conf_matrix = conf_matrix.astype('float') / conf_matrix.sum(axis=1)[:, np.newaxis]\n",
    "plt.figure(figsize = (15,15))\n",
    "sns.heatmap(conf_matrix, annot=True, annot_kws={\"size\": 15})"
   ]
  },
  {
   "cell_type": "markdown",
   "id": "cecc1f23",
   "metadata": {},
   "source": [
    "Again, the model's score is very poor, but keep in mind it hasn't gone through hyperparameter tuning. Let's see how it performs on some test text."
   ]
  },
  {
   "cell_type": "code",
   "execution_count": 153,
   "id": "79a99f89",
   "metadata": {},
   "outputs": [],
   "source": [
    "sentiment = ['Neutral','Negative','Positive']"
   ]
  },
  {
   "cell_type": "code",
   "execution_count": 154,
   "id": "163c0918",
   "metadata": {},
   "outputs": [
    {
     "name": "stdout",
     "output_type": "stream",
     "text": [
      "1/1 [==============================] - 0s 31ms/step\n"
     ]
    },
    {
     "data": {
      "text/plain": [
       "'Negative'"
      ]
     },
     "execution_count": 154,
     "metadata": {},
     "output_type": "execute_result"
    }
   ],
   "source": [
    "sequence = tokenizer.texts_to_sequences(['this experience has been the worst , want my money back'])\n",
    "test = pad_sequences(sequence, maxlen=max_len)\n",
    "sentiment[np.around(best_model.predict(test), decimals=0).argmax(axis=1)[0]]"
   ]
  },
  {
   "cell_type": "code",
   "execution_count": 155,
   "id": "2b389d6f",
   "metadata": {},
   "outputs": [
    {
     "name": "stdout",
     "output_type": "stream",
     "text": [
      "1/1 [==============================] - 0s 32ms/step\n"
     ]
    },
    {
     "data": {
      "text/plain": [
       "'Positive'"
      ]
     },
     "execution_count": 155,
     "metadata": {},
     "output_type": "execute_result"
    }
   ],
   "source": [
    "sequence = tokenizer.texts_to_sequences(['this data science article is the best ever'])\n",
    "test = pad_sequences(sequence, maxlen=max_len)\n",
    "sentiment[np.around(best_model.predict(test), decimals=0).argmax(axis=1)[0]]"
   ]
  },
  {
   "cell_type": "code",
   "execution_count": 156,
   "id": "5dfad446",
   "metadata": {},
   "outputs": [
    {
     "name": "stdout",
     "output_type": "stream",
     "text": [
      "1/1 [==============================] - 0s 30ms/step\n"
     ]
    },
    {
     "data": {
      "text/plain": [
       "'Negative'"
      ]
     },
     "execution_count": 156,
     "metadata": {},
     "output_type": "execute_result"
    }
   ],
   "source": [
    "sequence = tokenizer.texts_to_sequences(['i hate youtube ads, they are annoying'])\n",
    "test = pad_sequences(sequence, maxlen=max_len)\n",
    "sentiment[np.around(best_model.predict(test), decimals=0).argmax(axis=1)[0]]"
   ]
  },
  {
   "cell_type": "code",
   "execution_count": 157,
   "id": "f4b40058",
   "metadata": {},
   "outputs": [
    {
     "name": "stdout",
     "output_type": "stream",
     "text": [
      "1/1 [==============================] - 0s 39ms/step\n"
     ]
    },
    {
     "data": {
      "text/plain": [
       "'Neutral'"
      ]
     },
     "execution_count": 157,
     "metadata": {},
     "output_type": "execute_result"
    }
   ],
   "source": [
    "sequence = tokenizer.texts_to_sequences(['i really loved how the technician helped me with the issue that i had'])\n",
    "test = pad_sequences(sequence, maxlen=max_len)\n",
    "sentiment[np.around(best_model.predict(test), decimals=0).argmax(axis=1)[0]]"
   ]
  },
  {
   "cell_type": "code",
   "execution_count": 163,
   "id": "c00ff032",
   "metadata": {},
   "outputs": [
    {
     "name": "stdout",
     "output_type": "stream",
     "text": [
      "1/1 [==============================] - 0s 30ms/step\n"
     ]
    },
    {
     "data": {
      "text/plain": [
       "'Positive'"
      ]
     },
     "execution_count": 163,
     "metadata": {},
     "output_type": "execute_result"
    }
   ],
   "source": [
    "sequence = tokenizer.texts_to_sequences(['this text will say normal stuff'])\n",
    "test = pad_sequences(sequence, maxlen=max_len)\n",
    "sentiment[np.around(best_model.predict(test), decimals=0).argmax(axis=1)[0]]"
   ]
  },
  {
   "cell_type": "markdown",
   "id": "5ecff958",
   "metadata": {},
   "source": [
    "### Training Final model with entire dataset"
   ]
  },
  {
   "cell_type": "code",
   "execution_count": 143,
   "id": "ab805ea6",
   "metadata": {},
   "outputs": [
    {
     "name": "stdout",
     "output_type": "stream",
     "text": [
      "(42784, 200)\n",
      "(18337, 200)\n",
      "(61121, 200)\n"
     ]
    }
   ],
   "source": [
    "print(X_train.shape)\n",
    "print(X_test.shape)\n",
    "X_train_all = np.concatenate([X_train, X_test], axis=0) \n",
    "print(X_train_all.shape)"
   ]
  },
  {
   "cell_type": "code",
   "execution_count": null,
   "id": "b80d3d6b",
   "metadata": {},
   "outputs": [],
   "source": [
    "model2 = Sequential()\n",
    "model2.add(layers.Embedding(max_words, 40, input_length=max_len))\n",
    "model2.add(layers.Bidirectional(layers.LSTM(20,dropout=0.6)))\n",
    "model2.add(layers.Dense(3,activation='softmax'))\n",
    "model2.compile(optimizer='rmsprop',loss='categorical_crossentropy', metrics=['accuracy'])\n",
    "#Implementing model checkpoins to save the best metric and do not lose it on training.\n",
    "checkpoint2 = ModelCheckpoint(\"best_model_BidLTSM.hdf5\", monitor='val_accuracy', verbose=1,save_best_only=True, mode='auto', period=1,save_weights_only=False)\n",
    "history = model2.fit(X_train, y_train, epochs=5,validation_data=(X_test, y_test),callbacks=[checkpoint2])\n",
    "# TODO: baixei o epochs de 70 pra 5 soh pra ser mais rapido, esse aqui demora um pouco mais que o outro, \n",
    "# cerca de 52s por epoch"
   ]
  }
 ],
 "metadata": {
  "kernelspec": {
   "display_name": "Python (mlops)",
   "language": "python",
   "name": "mlops"
  },
  "language_info": {
   "codemirror_mode": {
    "name": "ipython",
    "version": 3
   },
   "file_extension": ".py",
   "mimetype": "text/x-python",
   "name": "python",
   "nbconvert_exporter": "python",
   "pygments_lexer": "ipython3",
   "version": "3.10.4"
  }
 },
 "nbformat": 4,
 "nbformat_minor": 5
}
